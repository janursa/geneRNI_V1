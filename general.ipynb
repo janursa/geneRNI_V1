{
 "cells": [
  {
   "cell_type": "code",
   "execution_count": null,
   "id": "680d82f5",
   "metadata": {},
   "outputs": [],
   "source": [
    "import pandas as pd\n",
    "pd.options.mode.chained_assignment = None  # default='warn'"
   ]
  },
  {
   "cell_type": "code",
   "execution_count": null,
   "id": "ef87b43d",
   "metadata": {},
   "outputs": [],
   "source": [
    "# benchmarking against GRNbenchmark\n",
    "from geneRNI import geneRNI as ni\n",
    "from geneRNI import utils\n",
    "import os\n",
    "import pandas as pd\n",
    "import numpy as np\n",
    "\n",
    "import importlib\n",
    "importlib.reload(ni)\n",
    "importlib.reload(utils)\n",
    "\n",
    "param = dict(\n",
    "    estimator_t = 'RF',\n",
    "    n_estimators = 50,\n",
    "    n_jobs = 10,\n",
    ") \n",
    "\n",
    "dir_main = 'C:/Users/nourisa/Downloads/testProjs/omics'\n",
    "\n",
    "dir_benchmark_out = os.path.join(dir_main,'results/benchmark')\n",
    "pr1 = ['GeneNetWeaver']\n",
    "# pr2 = ['HighNoise', 'LowNoise', 'MediumNoise']\n",
    "# pr3 = ['Network1', 'Network2_', 'Network3_', 'Network4', 'Network5']\n",
    "# pr2 = ['HighNoise_']\n",
    "# pr3 = ['Network1_']\n",
    "data_stack = [] # list of (Xs,ys) for differnt experiments\n",
    "for i_1 in pr1:\n",
    "    for i_2 in pr2:\n",
    "        for i_3 in pr3:\n",
    "            exp_data, per_data, gene_names = f_data_GRN(i_1, i_2, i_3)\n",
    "\n",
    "#             Xs, ys = utils.process_static_data(SS_data = exp_data, gene_names=gene_names, KO = per_data)\n",
    "            \n",
    "#             ests, scores_train, links, oob_scores = ni.network_inference(Xs, ys, param)\n",
    "            \n",
    "#             out_file = base + '_grn.csv'\n",
    "#             out_file = os.path.join(dir_benchmark_out, out_file)\n",
    "#             utils.output_links(links, gene_names=gene_names, file_name=out_file)\n",
    "#             data_stack.append((exp_data, per_data))"
   ]
  },
  {
   "cell_type": "code",
   "execution_count": 18,
   "id": "7c39465d",
   "metadata": {},
   "outputs": [
    {
     "name": "stdout",
     "output_type": "stream",
     "text": [
      "dynamic data: ngenes: 10, nsamples: 90, ngenes: 10\n",
      "static data: ngenes: 10, nsamples: 31, ngenes: 10\n",
      "stats: 10 genes 10 permts 10 threads\n",
      "Running 10 samples randomly\n",
      "Gene-based multi threading\n",
      "Param search is completed in 5.822 seconds\n",
      "param search: best score, mean: 0.9499652848888049 std: 0.023597763015106937\n"
     ]
    }
   ],
   "source": [
    "# run the param tuning \n",
    "%run run.py"
   ]
  },
  {
   "cell_type": "code",
   "execution_count": 20,
   "id": "39b7c488",
   "metadata": {},
   "outputs": [
    {
     "name": "stdout",
     "output_type": "stream",
     "text": [
      "dynamic data: ngenes: 10, nsamples: 90, ngenes: 10\n",
      "static data: ngenes: 10, nsamples: 31, ngenes: 10\n",
      "{'best_scores': [0.9752007585291104, 0.9438355614452465, 0.9300238212435342, 0.9048361229588668, 0.980024076826918, 0.9315026950816243, 0.9728058958730795, 0.9706892541203734, 0.9559025429951743, 0.9348321198141217], 'best_params': [{'alpha': 0.9}, {'alpha': 0.9}, {'alpha': 0.9}, {'alpha': 0.9}, {'alpha': 0.9}, {'alpha': 0.9}, {'alpha': 0.9}, {'alpha': 0.9}, {'alpha': 0.9}, {'alpha': 0.9}]}\n",
      "\n"
     ]
    },
    {
     "ename": "NameError",
     "evalue": "name 'unique_param' is not defined",
     "output_type": "error",
     "traceback": [
      "\u001b[1;31m---------------------------------------------------------------------------\u001b[0m",
      "\u001b[1;31mNameError\u001b[0m                                 Traceback (most recent call last)",
      "Input \u001b[1;32mIn [20]\u001b[0m, in \u001b[0;36m<cell line: 40>\u001b[1;34m()\u001b[0m\n\u001b[0;32m     37\u001b[0m     \u001b[38;5;28mprint\u001b[39m(f\u001b[38;5;241m.\u001b[39mread())\n\u001b[0;32m     38\u001b[0m \u001b[38;5;66;03m# unique_param = \u001b[39;00m\n\u001b[0;32m     39\u001b[0m \u001b[38;5;66;03m# nework inference\u001b[39;00m\n\u001b[1;32m---> 40\u001b[0m _, train_scores, links, oob_scores, test_scores \u001b[38;5;241m=\u001b[39m ni\u001b[38;5;241m.\u001b[39mnetwork_inference(Xs\u001b[38;5;241m=\u001b[39mXs_train, ys\u001b[38;5;241m=\u001b[39mys_train, param\u001b[38;5;241m=\u001b[39mparam, Xs_test\u001b[38;5;241m=\u001b[39mXs_test, ys_test\u001b[38;5;241m=\u001b[39mys_test, unique_param\u001b[38;5;241m=\u001b[39m\u001b[43munique_param\u001b[49m)\n",
      "\u001b[1;31mNameError\u001b[0m: name 'unique_param' is not defined"
     ]
    }
   ],
   "source": [
    "# post processing: calculate links, golden precision scores, and plot param distribution \n",
    "import json\n",
    "import ast\n",
    "import importlib\n",
    "import pandas as pd\n",
    "import numpy as np\n",
    "from geneRNI import search_param\n",
    "from geneRNI import tools\n",
    "from geneRNI import geneRNI as ni\n",
    "import itertools\n",
    "import random\n",
    "import run\n",
    "importlib.reload(search_param)\n",
    "importlib.reload(ni)\n",
    "importlib.reload(run)\n",
    "\n",
    "dir_main = 'C:/Users/nourisa/Downloads/testProjs/omics'\n",
    "output_dir=os.path.join(dir_main,'results')\n",
    "# choose the study \n",
    "size, network, study= 10, 1, 'dreams'\n",
    "# method, noise_level, network, study= 'GeneNetWeaver', 'LowNoise', 'Network1', 'GRNbenchmark'\n",
    "\n",
    "# recreate the experiment\n",
    "if study == 'dreams':\n",
    "    specs = dict(size=size, network=network, study=study)\n",
    "    gene_names, param, param_grid, Xs_train, Xs_test, ys_train, ys_test, f_dir_links, f_golden_dream = run.prepare_data_for_study(specs)\n",
    "    param_search_results_dir =  f'results/param_search_dream_{size}_{network}.txt'\n",
    "elif study == 'GRNbenchmark':\n",
    "    specs = dict(method='GeneNetWeaver', noise_level='LowNoise', network='Network1', study='GRNbenchmark')\n",
    "    gene_names, param, param_grid, Xs_train, Xs_test, ys_train, ys_test, f_dir_links, f_golden_dream = run.prepare_data_for_study(specs)    \n",
    "    param_search_results_dir =  f'results/param_search_{method}_{noise_level}_{network}.txt'\n",
    "    \n",
    "else:\n",
    "    raise ValueError('define here')\n",
    "# retreieve param search results\n",
    "with open(param_search_results_dir,'r') as f:\n",
    "    print(f.read())\n",
    "# unique_param = \n",
    "# nework inference\n",
    "_, train_scores, links, oob_scores, test_scores = ni.network_inference(Xs=Xs_train, ys=ys_train, param=param, Xs_test=Xs_test, ys_test=ys_test, unique_param=unique_param)\n",
    "\n",
    "# plot\n",
    "# with open(os.path.join(output_dir,'permts.txt'),'w') as f:\n",
    "#     print({'permts':permts}, file=f)\n",
    "# with open(os.path.join(output_dir, 'sampled_permts.txt'), 'w') as f:\n",
    "#     print({'permts':sampled_permts},file=f)"
   ]
  },
  {
   "cell_type": "code",
   "execution_count": null,
   "id": "9ab89947",
   "metadata": {},
   "outputs": [],
   "source": [
    "# plot precision vs racals\n",
    "precision, recall, average_precision = utils.calculate_PR(gene_names=gene_names, scores=scores, tests=tests, details = True)\n",
    "\n",
    "utils.PR_curve_average(recall=recall, precision=precision, average_precision=average_precision)\n",
    "utils.PR_curve_gene(gene_names=gene_names[0:2], precision=precision, recall=recall, average_precision=average_precision)"
   ]
  },
  {
   "cell_type": "code",
   "execution_count": 16,
   "id": "1d2d6fe5",
   "metadata": {},
   "outputs": [
    {
     "name": "stdout",
     "output_type": "stream",
     "text": [
      "dynamic data: ngenes: 10, nsamples: 90, ngenes: 10\n",
      "static data: ngenes: 10, nsamples: 31, ngenes: 10\n",
      "None\n",
      "\n",
      "network inference: train score, mean: 0.777132527329488 std: 0.03489994650333133\n",
      "network inference: oob score (only RF), mean: 0.013344477998039839 std: 0.06499755144776782\n"
     ]
    }
   ],
   "source": [
    "# evaluate network  \n",
    "from geneRNI import geneRNI as ni\n",
    "from geneRNI import tools\n",
    "from geneRNI import search_param\n",
    "import os\n",
    "import pandas as pd\n",
    "import numpy as np\n",
    "pd.options.mode.chained_assignment = None\n",
    "\n",
    "import importlib\n",
    "import run\n",
    "importlib.reload(ni)\n",
    "importlib.reload(tools)\n",
    "importlib.reload(search_param)\n",
    "importlib.reload(run)\n",
    "size, network, study= 10, 1, 'dreams'\n",
    "# method, noise_level, network, study= 'GeneNetWeaver', 'LowNoise', 'Network1', 'GRNbenchmark'\n",
    "\n",
    "\n",
    "if study == 'dreams':\n",
    "    specs = dict(size=size, network=network, study=study)\n",
    "    gene_names, param, param_grid, Xs_train, Xs_test, ys_train, ys_test, f_dir_links, f_golden_dream = run.prepare_data_for_study(specs)\n",
    "elif study == 'GRNbenchmark':\n",
    "    specs = dict(method='GeneNetWeaver', noise_level='LowNoise', network='Network1', study='GRNbenchmark')\n",
    "    gene_names, param, param_grid, Xs_train, Xs_test, ys_train, ys_test, f_dir_links, f_golden_dream = run.prepare_data_for_study(specs)    \n",
    "else:\n",
    "    raise ValueError('define here')\n",
    "\n",
    "# nework inference\n",
    "_, train_scores, links, oob_scores, test_scores = ni.network_inference(Xs=Xs_train, ys=ys_train, param=param, Xs_test=Xs_test, ys_test=ys_test)"
   ]
  },
  {
   "cell_type": "code",
   "execution_count": null,
   "id": "44d1a443",
   "metadata": {},
   "outputs": [],
   "source": [
    "# write test data for R\n",
    "TS_data, time_points, SS_data, gene_names = f_data_dream(size, network)\n",
    "np.savetxt('data/test_data.csv',SS_data.transpose(), delimiter=',')"
   ]
  },
  {
   "cell_type": "code",
   "execution_count": null,
   "id": "6bb962af",
   "metadata": {},
   "outputs": [],
   "source": [
    "# calculate precision score for r results\n",
    "import os\n",
    "import pandas as pd\n",
    "pd.options.mode.chained_assignment = None\n",
    "import numpy as np\n",
    "import sys\n",
    "dir_main = 'C:/Users/nourisa/Downloads/testProjs/omics'\n",
    "\n",
    "sys.path.insert(0, dir_main)\n",
    "from geneRNI import tools\n",
    "\n",
    "size = 10 # [10,100]\n",
    "network = 1 # [1-5]\n",
    "\n",
    "def f_golden_dream(size, network): \n",
    "    \"\"\" retreives golden links for dreams for given size and network \"\"\"\n",
    "    dir_ = os.path.join(dir_main,f'dynGENIE3/dynGENIE3_data/dream4/gold_standards/{size}/DREAM4_GoldStandard_InSilico_Size{size}_{network}.tsv')\n",
    "    return pd.read_csv(dir_, names=['Regulator','Target','Weight'] ,sep='\\t') \n",
    "def f_dir_links(size, network):\n",
    "    \"\"\" returns the dir to the stored links \"\"\"\n",
    "    return os.path.join(dir_main,f'results/test_links.csv')\n",
    "def f_data_dream(size, network): \n",
    "    \"\"\" retreives train data for dreams for given size and network\"\"\"\n",
    "    (TS_data, time_points, SS_data) = pd.read_pickle(os.path.join(dir_main,f'dynGENIE3/dynGENIE3_data/dream4/data/size{size}_{network}_data.pkl'))\n",
    "    gene_names = [f'G{i}' for i in range(1,size+1)]\n",
    "    return TS_data, time_points, SS_data, gene_names\n",
    "TS_data, time_points, SS_data, gene_names = f_data_dream(size, network)\n",
    "links = pd.read_csv(f_dir_links(size, network) )\n",
    "goldens = f_golden_dream(size, network)\n",
    "# sort links based on each gene\n",
    "links_sorted = tools.sort_links(links,gene_names)\n",
    "goldens_sorted = tools.sort_links(goldens,gene_names)\n",
    "# calculate PR\n",
    "scores = np.array(list(goldens_sorted.values()))\n",
    "tests = np.array(list(links_sorted.values()))\n",
    "_, _, _, average_precision_overall = tools.calculate_PR(gene_names=gene_names, scores=scores, tests=tests, details = False)\n",
    "print('average precision : ',average_precision_overall)"
   ]
  },
  {
   "cell_type": "code",
   "execution_count": null,
   "id": "ae913fd9",
   "metadata": {},
   "outputs": [],
   "source": [
    "## dynGENIE3\n",
    "import importlib\n",
    "from dynGENIE3 import dynGENIE3 \n",
    "importlib.reload(dynGENIE3)\n",
    "import _pickle\n",
    "\n",
    "(VIM, alphas, prediction_score, stability_score, treeEstimators) = dynGENIE3.dynGENIE3(TS_data = None, SS_data = SS_data,time_points=time_points)"
   ]
  }
 ],
 "metadata": {
  "kernelspec": {
   "display_name": "Python 3 (ipykernel)",
   "language": "python",
   "name": "python3"
  },
  "language_info": {
   "codemirror_mode": {
    "name": "ipython",
    "version": 3
   },
   "file_extension": ".py",
   "mimetype": "text/x-python",
   "name": "python",
   "nbconvert_exporter": "python",
   "pygments_lexer": "ipython3",
   "version": "3.8.13"
  }
 },
 "nbformat": 4,
 "nbformat_minor": 5
}
