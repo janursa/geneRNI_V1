{
 "cells": [
  {
   "cell_type": "code",
   "execution_count": 1,
   "id": "680d82f5",
   "metadata": {},
   "outputs": [],
   "source": [
    "import pandas as pd\n",
    "pd.options.mode.chained_assignment = None  # default='warn'\n",
    "import os\n",
    "import sys\n",
    "main_dir = 'C:/Users/nourisa/Downloads/testProjs/geneRNI/'"
   ]
  },
  {
   "cell_type": "code",
   "execution_count": 93,
   "id": "33cc3bd0",
   "metadata": {},
   "outputs": [
    {
     "name": "stdout",
     "output_type": "stream",
     "text": [
      "dynamic data: ngenes: 10, nsamples: 90, n regulators: 10\n",
      "static data: ngenes: 10, nsamples: 31, n regulators: 10\n",
      "stats: 10 genes 10 permts 10 threads\n",
      "Running 10 samples randomly\n",
      "Permutation-based multi threading\n",
      "Param search is completed in 2.095 seconds\n",
      "0.9529307972151142\n"
     ]
    }
   ],
   "source": [
    "# param tuning\n",
    "from geneRNI import tools\n",
    "from geneRNI import geneRNI\n",
    "from geneRNI import search_param\n",
    "import importlib\n",
    "importlib.reload(search_param)\n",
    "TS_data, time_points, SS_data, gene_names = tools.Benchmark.f_data_dream4(10,1)\n",
    "Xs, ys = tools.Data.process(TS_data = TS_data, SS_data = SS_data, time_points = time_points, gene_names=gene_names, regulators = 'all', KO = None, verbose=True)\n",
    "X_train, X_test, y_train, y_test = model_selection.train_test_split(Xs, ys, test_size=.2)\n",
    "distributions = dict(alpha=np.arange(0,1,.1))\n",
    "best_scores, best_params, best_ests, sampled_permts_sorted = search_param.rand_search(X_train, y_train, param = {'estimator_t':'RF'}, param_grid=distributions, n_jobs = 10)\n",
    "print(np.mean(best_scores))"
   ]
  },
  {
   "cell_type": "code",
   "execution_count": 34,
   "id": "8e2d0d19",
   "metadata": {},
   "outputs": [
    {
     "name": "stdout",
     "output_type": "stream",
     "text": [
      "dynamic data: ngenes: 100, nsamples: 180, n regulators: 100\n",
      "static data: ngenes: 100, nsamples: 201, n regulators: 100\n",
      "\n",
      "network inference: train score, mean: 0.9488575283255746 std: 0.013888741079021358\n",
      "network inference: oob score (only RF), mean: 0.6272023789859613 std: 0.10276673716260273\n"
     ]
    }
   ],
   "source": [
    "# run network inference\n",
    "from geneRNI import tools\n",
    "from geneRNI import geneRNI\n",
    "import importlib\n",
    "importlib.reload(tools)\n",
    "TS_data, time_points, SS_data, gene_names = tools.Benchmark.f_data_dream4(10,1)\n",
    "Xs, ys = tools.Data.process(TS_data = TS_data, SS_data = SS_data, time_points = time_points, gene_names=gene_names, regulators = 'all', KO = None, verbose=True)\n",
    "param = {\n",
    "    'estimator_t' : 'RF' \n",
    "}\n",
    "ests, train_scores, links_df, oob_scores, test_scores = geneRNI.network_inference(Xs, ys, gene_names, param, param_unique = None, Xs_test=None, ys_test=None, verbose=True)"
   ]
  },
  {
   "cell_type": "code",
   "execution_count": 41,
   "id": "2cb6027e",
   "metadata": {},
   "outputs": [],
   "source": [
    "# calculate PR and the area under PR\n",
    "golden_links = tools.Benchmark.f_golden_dream4(100,1)\n",
    "precision, recall, average_precision, average_precision['micro']  = tools.GOF.calculate_PR(gene_names, links=links_df, golden_links=golden_links, details = True, regulator_tag='Regulator', target_tag='Target', weight_tag='Weight')"
   ]
  },
  {
   "cell_type": "code",
   "execution_count": 40,
   "id": "757b2b25",
   "metadata": {},
   "outputs": [
    {
     "data": {
      "text/plain": [
       "0.013498836484200184"
      ]
     },
     "execution_count": 40,
     "metadata": {},
     "output_type": "execute_result"
    }
   ],
   "source": [
    "average_precision['micro']"
   ]
  },
  {
   "cell_type": "code",
   "execution_count": 43,
   "id": "c580ed01",
   "metadata": {},
   "outputs": [
    {
     "data": {
      "image/png": "[encoded data removed]",
      "text/plain": [
       "<Figure size 360x288 with 1 Axes>"
      ]
     },
     "metadata": {
      "needs_background": "light"
     },
     "output_type": "display_data"
    }
   ],
   "source": [
    "# plot score results\n",
    "from geneRNI import tools\n",
    "import ast\n",
    "# importlib.reload(tools)\n",
    "# plot scores for individual network\n",
    "estimator_t = 'RF'\n",
    "dir_results = os.path.join(main_dir, f'results/dream4/{estimator_t}_best_scores.txt')\n",
    "with open(dir_results) as f:\n",
    "    scores_stack = ast.literal_eval(f.read())['best_scores']\n",
    "tools.GOF.boxplot_scores_groupOfgroup([list(item.values()) for item in scores_stack.values()] ,\n",
    "                                      tags = [str(i) for i in range(1,6)], titles=['Size 10', 'Size 100'])\n"
   ]
  },
  {
   "cell_type": "code",
   "execution_count": 59,
   "id": "39b7c488",
   "metadata": {},
   "outputs": [
    {
     "name": "stdout",
     "output_type": "stream",
     "text": [
      "dynamic data: ngenes: 100, nsamples: 180, n regulators: 100\n",
      "static data: ngenes: 100, nsamples: 201, n regulators: 100\n",
      "\n",
      "network inference: train score, mean: 0.9759285054595057 std: 0.04472185830938575\n",
      "network inference: oob score (only RF), mean: 0.9321619802057656 std: 0.1019600490547184\n"
     ]
    }
   ],
   "source": [
    "# post processing: calculate links, golden precision scores\n",
    "import os\n",
    "import ast\n",
    "import importlib\n",
    "import pandas as pd\n",
    "import numpy as np\n",
    "from geneRNI import search_param\n",
    "from geneRNI import tools\n",
    "from geneRNI import geneRNI as ni\n",
    "import itertools\n",
    "import random\n",
    "importlib.reload(search_param)\n",
    "importlib.reload(ni)\n",
    "importlib.reload(tools)\n",
    "\n",
    "dir_main = 'C:/Users/nourisa/Downloads/testProjs/geneRNI'\n",
    "output_dir=os.path.join(dir_main,'results')\n",
    "# choose the study \n",
    "size, network, study= 100, 1, 'dreams'\n",
    "# method, noise_level, network, study= 'GeneNetWeaver', 'LowNoise', 'Network1', 'GRNbenchmark'\n",
    "\n",
    "# recreate the experiment\n",
    "estimator_t = 'RF' #'HGB'\n",
    "study = 'dreams' #'GRNbenchmark'\n",
    "\n",
    "if study == 'dreams': # dream as target study\n",
    "    out_data = tools.Benchmark.process_data_dream4(size=size, network=network, estimator_t=estimator_t)\n",
    "    results_dir = f'results/dream4/{estimator_t}/param_search_dream_{size}_{network}.txt'\n",
    "elif study == 'GRNbenchmark':\n",
    "    method, noise_level, network = 'GeneNetWeaver', 'LowNoise', 'Network1'\n",
    "    out_data = tools.Benchmark.process_data_GRNbenchmark(method, noise_level, network, estimator_t=estimator_t)\n",
    "    results_dir = f'results/param_search_GRNbenchmark_{method}_{noise_level}_{network}.txt'\n",
    "else:\n",
    "    raise ValueError('Define')\n",
    "out_defaults = tools.Settings.default(estimator_t=estimator_t)\n",
    "\n",
    "# retreieve param search results\n",
    "with open(results_dir,'r') as f:\n",
    "    out = ast.literal_eval(f.read())\n",
    "best_scores, best_params = out['best_scores'], out['best_params']\n",
    "\n",
    "# param_unique = tools.param_unique_average(best_params)\n",
    "param_unique = best_params\n",
    "# nework inference\n",
    "_, train_scores, links, oob_scores, test_scores = ni.network_inference(Xs=out_data.Xs_train, ys=out_data.ys_train, gene_names=gene_names,\n",
    "                                                                       param=out_defaults.param, Xs_test=out_data.Xs_test, \n",
    "                                                                       ys_test=out_data.ys_test, param_unique=param_unique)\n"
   ]
  },
  {
   "cell_type": "code",
   "execution_count": 62,
   "id": "ef2e88dd",
   "metadata": {},
   "outputs": [
    {
     "data": {
      "image/png": "[encoded data removed]",
      "text/plain": [
       "<Figure size 720x360 with 2 Axes>"
      ]
     },
     "metadata": {
      "needs_background": "light"
     },
     "output_type": "display_data"
    }
   ],
   "source": [
    "#  plot param distribution \n",
    "from geneRNI import tools\n",
    "import ast\n",
    "\n",
    "with open(os.path.join(output_dir,'permts.txt'),'r') as f:\n",
    "    permts = ast.literal_eval(f.read())\n",
    "with open(os.path.join(output_dir, 'sampled_permts.txt'), 'r') as f:\n",
    "    sampled_permts = ast.literal_eval(f.read())\n",
    "tools.GOF.boxplot_params(best_params, priors = permts, samples = sampled_permts)"
   ]
  },
  {
   "cell_type": "code",
   "execution_count": 48,
   "id": "9ab89947",
   "metadata": {},
   "outputs": [
    {
     "ename": "NameError",
     "evalue": "name 'scores' is not defined",
     "output_type": "error",
     "traceback": [
      "\u001b[1;31m---------------------------------------------------------------------------\u001b[0m",
      "\u001b[1;31mNameError\u001b[0m                                 Traceback (most recent call last)",
      "Input \u001b[1;32mIn [48]\u001b[0m, in \u001b[0;36m<cell line: 2>\u001b[1;34m()\u001b[0m\n\u001b[0;32m      1\u001b[0m \u001b[38;5;66;03m# plot precision vs racals\u001b[39;00m\n\u001b[1;32m----> 2\u001b[0m precision, recall, average_precision \u001b[38;5;241m=\u001b[39m tools\u001b[38;5;241m.\u001b[39mGOF\u001b[38;5;241m.\u001b[39mcalculate_PR(gene_names\u001b[38;5;241m=\u001b[39mgene_names, scores\u001b[38;5;241m=\u001b[39m\u001b[43mscores\u001b[49m, tests\u001b[38;5;241m=\u001b[39mtests, details \u001b[38;5;241m=\u001b[39m \u001b[38;5;28;01mTrue\u001b[39;00m)\n\u001b[0;32m      4\u001b[0m utils\u001b[38;5;241m.\u001b[39mPR_curve_average(recall\u001b[38;5;241m=\u001b[39mrecall, precision\u001b[38;5;241m=\u001b[39mprecision, average_precision\u001b[38;5;241m=\u001b[39maverage_precision)\n\u001b[0;32m      5\u001b[0m utils\u001b[38;5;241m.\u001b[39mPR_curve_gene(gene_names\u001b[38;5;241m=\u001b[39mgene_names[\u001b[38;5;241m0\u001b[39m:\u001b[38;5;241m2\u001b[39m], precision\u001b[38;5;241m=\u001b[39mprecision, recall\u001b[38;5;241m=\u001b[39mrecall, average_precision\u001b[38;5;241m=\u001b[39maverage_precision)\n",
      "\u001b[1;31mNameError\u001b[0m: name 'scores' is not defined"
     ]
    }
   ],
   "source": [
    "# plot precision vs racals\n",
    "precision, recall, average_precision = tools.GOF.calculate_PR(gene_names=gene_names, scores=scores, tests=tests, details = True)\n",
    "\n",
    "utils.PR_curve_average(recall=recall, precision=precision, average_precision=average_precision)\n",
    "utils.PR_curve_gene(gene_names=gene_names[0:2], precision=precision, recall=recall, average_precision=average_precision)"
   ]
  },
  {
   "cell_type": "code",
   "execution_count": null,
   "id": "44d1a443",
   "metadata": {},
   "outputs": [],
   "source": [
    "# write test data for R\n",
    "TS_data, time_points, SS_data, gene_names = f_data_dream(size, network)\n",
    "np.savetxt('data/test_data.csv',SS_data.transpose(), delimiter=',')"
   ]
  },
  {
   "cell_type": "code",
   "execution_count": null,
   "id": "6bb962af",
   "metadata": {},
   "outputs": [],
   "source": [
    "# calculate precision score for r results\n",
    "import os\n",
    "import pandas as pd\n",
    "pd.options.mode.chained_assignment = None\n",
    "import numpy as np\n",
    "import sys\n",
    "dir_main = 'C:/Users/nourisa/Downloads/testProjs/omics'\n",
    "\n",
    "sys.path.insert(0, dir_main)\n",
    "from geneRNI import tools\n",
    "\n",
    "size = 10 # [10,100]\n",
    "network = 1 # [1-5]\n",
    "\n",
    "def f_golden_dream(size, network): \n",
    "    \"\"\" retreives golden links for dreams for given size and network \"\"\"\n",
    "    dir_ = os.path.join(dir_main,f'dynGENIE3/dynGENIE3_data/dream4/gold_standards/{size}/DREAM4_GoldStandard_InSilico_Size{size}_{network}.tsv')\n",
    "    return pd.read_csv(dir_, names=['Regulator','Target','Weight'] ,sep='\\t') \n",
    "def f_dir_links(size, network):\n",
    "    \"\"\" returns the dir to the stored links \"\"\"\n",
    "    return os.path.join(dir_main,f'results/test_links.csv')\n",
    "def f_data_dream(size, network): \n",
    "    \"\"\" retreives train data for dreams for given size and network\"\"\"\n",
    "    (TS_data, time_points, SS_data) = pd.read_pickle(os.path.join(dir_main,f'dynGENIE3/dynGENIE3_data/dream4/data/size{size}_{network}_data.pkl'))\n",
    "    gene_names = [f'G{i}' for i in range(1,size+1)]\n",
    "    return TS_data, time_points, SS_data, gene_names\n",
    "TS_data, time_points, SS_data, gene_names = f_data_dream(size, network)\n",
    "links = pd.read_csv(f_dir_links(size, network) )\n",
    "goldens = f_golden_dream(size, network)\n",
    "# sort links based on each gene\n",
    "links_sorted = tools.sort_links(links,gene_names)\n",
    "goldens_sorted = tools.sort_links(goldens,gene_names)\n",
    "# calculate PR\n",
    "scores = np.array(list(goldens_sorted.values()))\n",
    "tests = np.array(list(links_sorted.values()))\n",
    "_, _, _, average_precision_overall = tools.calculate_PR(gene_names=gene_names, scores=scores, tests=tests, details = False)\n",
    "print('average precision : ',average_precision_overall)"
   ]
  },
  {
   "cell_type": "code",
   "execution_count": 154,
   "id": "ae913fd9",
   "metadata": {},
   "outputs": [
    {
     "name": "stdout",
     "output_type": "stream",
     "text": [
      "Tree method: RF\n",
      "K: sqrt\n",
      "Number of trees: 1000\n",
      "alpha min: 0.003434072665420958\n",
      "alpha max: 0.025135982338199504\n",
      "\n",
      "\n",
      "running single threaded jobs\n",
      "Gene 1/10...\n",
      "Gene 2/10...\n",
      "Gene 3/10...\n",
      "Gene 4/10...\n",
      "Gene 5/10...\n",
      "Gene 6/10...\n",
      "Gene 7/10...\n",
      "Gene 8/10...\n",
      "Gene 9/10...\n",
      "Gene 10/10...\n",
      "Elapsed time: 11.84 seconds\n"
     ]
    }
   ],
   "source": [
    "## dynGENIE3\n",
    "import importlib\n",
    "import os\n",
    "import pandas as pd\n",
    "pd.options.mode.chained_assignment = None\n",
    "import numpy as np\n",
    "import sys\n",
    "dir_main = 'C:/Users/nourisa/Downloads/testProjs/omics'\n",
    "\n",
    "sys.path.insert(0, os.path.join(dir_main,'..'))\n",
    "from dynGENIE3 import dynGENIE3 \n",
    "importlib.reload(dynGENIE3)\n",
    "import _pickle\n",
    "links_file_name = os.path.join(dir_main,'results/links_dynGENIE3.txt')\n",
    "TS_data, time_points, SS_data, gene_names = tools.Benchmark.f_data_dream(size=10,network=1)\n",
    "VIM, alphas, prediction_score, stability_score, treeEstimators,scores_train = dynGENIE3.dynGENIE3(TS_data = TS_data, SS_data = SS_data,time_points=time_points, compute_quality_scores=True)\n",
    "dynGENIE3.get_link_list(VIM, gene_names=gene_names, file_name=links_file_name)"
   ]
  },
  {
   "cell_type": "code",
   "execution_count": 163,
   "id": "c188905a",
   "metadata": {},
   "outputs": [
    {
     "name": "stdout",
     "output_type": "stream",
     "text": [
      "oob score: mean 0.7653465206279951 std 0.20966361225633456\n",
      "0.5686362358410126\n"
     ]
    }
   ],
   "source": [
    "# post process dynGENIE3\n",
    "import pandas as pd\n",
    "# oob score\n",
    "print(f'oob score: mean {np.mean(prediction_score)} std {np.std(prediction_score)}')\n",
    "links_df = pd.read_csv(links_file_name, delim_whitespace=True, header=None)\n",
    "links_df.columns = ['Regulator','Target','Weight']\n",
    "links_df = tools.Links.sort(links_df, gene_names)\n",
    "golden_links = tools.Benchmark.f_golden_dream(10,1)\n",
    "_,_,_, average_PR = tools.GOF.calculate_PR(links=links_df, golden_links=golden_links, gene_names=gene_names)\n",
    "print(-np.log10(.27))"
   ]
  }
 ],
 "metadata": {
  "kernelspec": {
   "display_name": "Python 3 (ipykernel)",
   "language": "python",
   "name": "python3"
  },
  "language_info": {
   "codemirror_mode": {
    "name": "ipython",
    "version": 3
   },
   "file_extension": ".py",
   "mimetype": "text/x-python",
   "name": "python",
   "nbconvert_exporter": "python",
   "pygments_lexer": "ipython3",
   "version": "3.8.13"
  }
 },
 "nbformat": 4,
 "nbformat_minor": 5
}
