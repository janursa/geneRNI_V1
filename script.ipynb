{
 "cells": [
  {
   "cell_type": "code",
   "execution_count": null,
   "id": "680d82f5",
   "metadata": {},
   "outputs": [],
   "source": [
    "import pandas as pd\n",
    "pd.options.mode.chained_assignment = None  # default='warn'"
   ]
  },
  {
   "cell_type": "code",
   "execution_count": null,
   "id": "ef87b43d",
   "metadata": {},
   "outputs": [],
   "source": [
    "# benchmarking against GRNbenchmark\n",
    "from geneRNI import geneRNI as ni\n",
    "from geneRNI import utils\n",
    "import os\n",
    "import pandas as pd\n",
    "import numpy as np\n",
    "\n",
    "import importlib\n",
    "importlib.reload(ni)\n",
    "importlib.reload(utils)\n",
    "\n",
    "param = dict(\n",
    "    estimator_t = 'RF',\n",
    "    n_estimators = 50,\n",
    "    n_jobs = 10,\n",
    ") \n",
    "\n",
    "dir_main = 'C:/Users/nourisa/Downloads/testProjs/omics'\n",
    "\n",
    "dir_benchmark_out = os.path.join(dir_main,'results/benchmark')\n",
    "pr1 = ['GeneNetWeaver']\n",
    "# pr2 = ['HighNoise', 'LowNoise', 'MediumNoise']\n",
    "# pr3 = ['Network1', 'Network2_', 'Network3_', 'Network4', 'Network5']\n",
    "# pr2 = ['HighNoise_']\n",
    "# pr3 = ['Network1_']\n",
    "data_stack = [] # list of (Xs,ys) for differnt experiments\n",
    "for i_1 in pr1:\n",
    "    for i_2 in pr2:\n",
    "        for i_3 in pr3:\n",
    "            exp_data, per_data, gene_names = f_data_GRN(i_1, i_2, i_3)\n",
    "\n",
    "#             Xs, ys = utils.process_static_data(SS_data = exp_data, gene_names=gene_names, KO = per_data)\n",
    "            \n",
    "#             ests, scores_train, links, oob_scores = ni.network_inference(Xs, ys, param)\n",
    "            \n",
    "#             out_file = base + '_grn.csv'\n",
    "#             out_file = os.path.join(dir_benchmark_out, out_file)\n",
    "#             utils.output_links(links, gene_names=gene_names, file_name=out_file)\n",
    "#             data_stack.append((exp_data, per_data))"
   ]
  },
  {
   "cell_type": "code",
   "execution_count": 9,
   "id": "39b7c488",
   "metadata": {},
   "outputs": [
    {
     "name": "stdout",
     "output_type": "stream",
     "text": [
      "static data: ngenes: 100, nsamples: 300, n regulators: 100\n",
      "\n",
      "network inference: train score, mean: 0.9938898090597094 std: 0.0047750313308184515\n",
      "network inference: oob score (only RF), mean: 0.9552373028672413 std: 0.03317494198438678\n"
     ]
    },
    {
     "data": {
      "image/png": "[encoded data removed]",
      "text/plain": [
       "<Figure size 720x360 with 2 Axes>"
      ]
     },
     "metadata": {
      "needs_background": "light"
     },
     "output_type": "display_data"
    }
   ],
   "source": [
    "# post processing: calculate links, golden precision scores, and plot param distribution \n",
    "import os\n",
    "import ast\n",
    "import importlib\n",
    "import pandas as pd\n",
    "import numpy as np\n",
    "from geneRNI import search_param\n",
    "from geneRNI import tools\n",
    "from geneRNI import geneRNI as ni\n",
    "import itertools\n",
    "import random\n",
    "importlib.reload(search_param)\n",
    "importlib.reload(ni)\n",
    "importlib.reload(tools)\n",
    "\n",
    "dir_main = 'C:/Users/nourisa/Downloads/testProjs/omics'\n",
    "output_dir=os.path.join(dir_main,'results')\n",
    "# choose the study \n",
    "# size, network, study= 10, 1, 'dreams'\n",
    "method, noise_level, network, study= 'GeneNetWeaver', 'LowNoise', 'Network1', 'GRNbenchmark'\n",
    "\n",
    "# recreate the experiment\n",
    "estimator_t = 'RF' #'HGB'\n",
    "study = 'GRNbenchmark' #'GRNbenchmark'\n",
    "\n",
    "if study == 'dreams': # dream as target study\n",
    "    size, network = 10, 1 # [10,100] [1-5]\n",
    "    out_data = tools.Benchmark.process_data_dreams(size=size, network=network, estimator_t=estimator_t)\n",
    "    results_dir = f'results/param_search_dream_{size}_{network}.txt'\n",
    "elif study == 'GRNbenchmark':\n",
    "    method, noise_level, network = 'GeneNetWeaver', 'LowNoise', 'Network1'\n",
    "    out_data = tools.Benchmark.process_data_GRNbenchmark(method, noise_level, network, estimator_t=estimator_t)\n",
    "    results_dir = f'results/param_search_GRNbenchmark_{method}_{noise_level}_{network}.txt'\n",
    "else:\n",
    "    raise ValueError('Define')\n",
    "out_defaults = tools.Settings.default(estimator_t=estimator_t)\n",
    "\n",
    "# retreieve param search results\n",
    "with open(results_dir,'r') as f:\n",
    "    out = ast.literal_eval(f.read())\n",
    "best_scores, best_params = out['best_scores'], out['best_params']\n",
    "\n",
    "# param_unique = tools.param_unique_average(best_params)\n",
    "param_unique = best_params\n",
    "# nework inference\n",
    "_, train_scores, links, oob_scores, test_scores = ni.network_inference(Xs=out_data.Xs_train, ys=out_data.ys_train, \n",
    "                                                                       param=out_defaults.param, Xs_test=out_data.Xs_test, \n",
    "                                                                       ys_test=out_data.ys_test, param_unique=param_unique)\n",
    "\n",
    "# plot\n",
    "with open(os.path.join(output_dir,'permts.txt'),'r') as f:\n",
    "    permts = ast.literal_eval(f.read())\n",
    "with open(os.path.join(output_dir, 'sampled_permts.txt'), 'r') as f:\n",
    "    sampled_permts = ast.literal_eval(f.read())\n",
    "search_param.plot(best_params,best_scores, priors = permts, samples = sampled_permts)"
   ]
  },
  {
   "cell_type": "code",
   "execution_count": null,
   "id": "9ab89947",
   "metadata": {},
   "outputs": [],
   "source": [
    "# plot precision vs racals\n",
    "precision, recall, average_precision = utils.calculate_PR(gene_names=gene_names, scores=scores, tests=tests, details = True)\n",
    "\n",
    "utils.PR_curve_average(recall=recall, precision=precision, average_precision=average_precision)\n",
    "utils.PR_curve_gene(gene_names=gene_names[0:2], precision=precision, recall=recall, average_precision=average_precision)"
   ]
  },
  {
   "cell_type": "code",
   "execution_count": null,
   "id": "44d1a443",
   "metadata": {},
   "outputs": [],
   "source": [
    "# write test data for R\n",
    "TS_data, time_points, SS_data, gene_names = f_data_dream(size, network)\n",
    "np.savetxt('data/test_data.csv',SS_data.transpose(), delimiter=',')"
   ]
  },
  {
   "cell_type": "code",
   "execution_count": null,
   "id": "6bb962af",
   "metadata": {},
   "outputs": [],
   "source": [
    "# calculate precision score for r results\n",
    "import os\n",
    "import pandas as pd\n",
    "pd.options.mode.chained_assignment = None\n",
    "import numpy as np\n",
    "import sys\n",
    "dir_main = 'C:/Users/nourisa/Downloads/testProjs/omics'\n",
    "\n",
    "sys.path.insert(0, dir_main)\n",
    "from geneRNI import tools\n",
    "\n",
    "size = 10 # [10,100]\n",
    "network = 1 # [1-5]\n",
    "\n",
    "def f_golden_dream(size, network): \n",
    "    \"\"\" retreives golden links for dreams for given size and network \"\"\"\n",
    "    dir_ = os.path.join(dir_main,f'dynGENIE3/dynGENIE3_data/dream4/gold_standards/{size}/DREAM4_GoldStandard_InSilico_Size{size}_{network}.tsv')\n",
    "    return pd.read_csv(dir_, names=['Regulator','Target','Weight'] ,sep='\\t') \n",
    "def f_dir_links(size, network):\n",
    "    \"\"\" returns the dir to the stored links \"\"\"\n",
    "    return os.path.join(dir_main,f'results/test_links.csv')\n",
    "def f_data_dream(size, network): \n",
    "    \"\"\" retreives train data for dreams for given size and network\"\"\"\n",
    "    (TS_data, time_points, SS_data) = pd.read_pickle(os.path.join(dir_main,f'dynGENIE3/dynGENIE3_data/dream4/data/size{size}_{network}_data.pkl'))\n",
    "    gene_names = [f'G{i}' for i in range(1,size+1)]\n",
    "    return TS_data, time_points, SS_data, gene_names\n",
    "TS_data, time_points, SS_data, gene_names = f_data_dream(size, network)\n",
    "links = pd.read_csv(f_dir_links(size, network) )\n",
    "goldens = f_golden_dream(size, network)\n",
    "# sort links based on each gene\n",
    "links_sorted = tools.sort_links(links,gene_names)\n",
    "goldens_sorted = tools.sort_links(goldens,gene_names)\n",
    "# calculate PR\n",
    "scores = np.array(list(goldens_sorted.values()))\n",
    "tests = np.array(list(links_sorted.values()))\n",
    "_, _, _, average_precision_overall = tools.calculate_PR(gene_names=gene_names, scores=scores, tests=tests, details = False)\n",
    "print('average precision : ',average_precision_overall)"
   ]
  },
  {
   "cell_type": "code",
   "execution_count": null,
   "id": "ae913fd9",
   "metadata": {},
   "outputs": [],
   "source": [
    "## dynGENIE3\n",
    "import importlib\n",
    "from dynGENIE3 import dynGENIE3 \n",
    "importlib.reload(dynGENIE3)\n",
    "import _pickle\n",
    "\n",
    "(VIM, alphas, prediction_score, stability_score, treeEstimators) = dynGENIE3.dynGENIE3(TS_data = None, SS_data = SS_data,time_points=time_points)"
   ]
  }
 ],
 "metadata": {
  "kernelspec": {
   "display_name": "Python 3 (ipykernel)",
   "language": "python",
   "name": "python3"
  },
  "language_info": {
   "codemirror_mode": {
    "name": "ipython",
    "version": 3
   },
   "file_extension": ".py",
   "mimetype": "text/x-python",
   "name": "python",
   "nbconvert_exporter": "python",
   "pygments_lexer": "ipython3",
   "version": "3.8.13"
  }
 },
 "nbformat": 4,
 "nbformat_minor": 5
}
