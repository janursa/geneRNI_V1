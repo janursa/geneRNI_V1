{
 "cells": [
  {
   "cell_type": "code",
   "execution_count": 58,
   "id": "680d82f5",
   "metadata": {},
   "outputs": [],
   "source": [
    "import pandas as pd\n",
    "pd.options.mode.chained_assignment = None  # default='warn'"
   ]
  },
  {
   "cell_type": "code",
   "execution_count": 115,
   "id": "db9def81",
   "metadata": {},
   "outputs": [],
   "source": [
    "# extract best params, scores, links, and PR scores for a complete benchmark\n",
    "import os\n",
    "import ast\n",
    "import importlib\n",
    "import pandas as pd\n",
    "import numpy as np\n",
    "def warn(*args, **kwargs):\n",
    "    pass\n",
    "import warnings\n",
    "warnings.warn = warn\n",
    "from geneRNI import search_param\n",
    "from geneRNI import tools\n",
    "from geneRNI import geneRNI as ni\n",
    "import itertools\n",
    "import random\n",
    "importlib.reload(search_param)\n",
    "importlib.reload(ni)\n",
    "importlib.reload(tools)\n",
    "dir_main = 'C:/Users/nourisa/Downloads/testProjs/omics'\n",
    "output_dir=os.path.join(dir_main,'results')\n",
    "\n",
    "estimator_t = 'RF' #'HGB'\n",
    "out_defaults = tools.Settings.default(estimator_t=estimator_t)\n",
    "\n",
    "scores_stack = {}\n",
    "params_stack = {}\n",
    "PR_stack = {}\n",
    "def dream4_complete(estimator_t):\n",
    "    sizes = [10]\n",
    "    networks = [1,2,3,4,5]\n",
    "    for size in sizes:\n",
    "        scores_stack.update({size:{}})\n",
    "        params_stack.update({size:{}})\n",
    "        PR_stack.update({size:{}})\n",
    "        for network in networks:\n",
    "            out_data = tools.Benchmark.process_data_dream4(size=size, network=network, estimator_t=estimator_t, verbose=False)\n",
    "            results_dir = f'results/dream4/{estimator_t}/param_search_dream_{size}_{network}.txt'\n",
    "            with open(results_dir,'r') as f:\n",
    "                out = ast.literal_eval(f.read())\n",
    "            best_scores, best_params = out['best_scores'], out['best_params']\n",
    "            params_stack[size].update({network:best_params})\n",
    "            # nework inference\n",
    "            _, _, _, gene_names = tools.Benchmark.f_data_dream(size, network)\n",
    "            _, train_scores, links, oob_scores, test_scores = ni.network_inference(Xs=out_data.Xs_train, ys=out_data.ys_train, \n",
    "                                                                                   gene_names=gene_names,\n",
    "                                                                                   param=out_defaults.param, Xs_test=out_data.Xs_test, \n",
    "                                                                                   ys_test=out_data.ys_test, param_unique=best_params, verbose=False)\n",
    "            if estimator_t == 'RF':\n",
    "                scores_stack[size].update({network:oob_scores})\n",
    "            else:\n",
    "                scores_stack[size].update({network:test_scores})\n",
    "            \n",
    "            # calculate PR\n",
    "            golden_links = tools.Benchmark.f_golden_dream(size, network)\n",
    "            precision, recall, average_precision, average_precision_overall = tools.GOF.calculate_PR(gene_names, links, golden_links, details=True)\n",
    "#             tools.GOF.PR_curve_gene(gene_names, recall, precision, average_precision)\n",
    "            PR_stack[size].update({network:average_precision_overall})            \n",
    "\n",
    "dream4_complete(estimator_t)     "
   ]
  },
  {
   "cell_type": "code",
   "execution_count": 116,
   "id": "c580ed01",
   "metadata": {},
   "outputs": [
    {
     "data": {
      "image/png": "[encoded data removed]",
      "text/plain": [
       "<Figure size 360x288 with 1 Axes>"
      ]
     },
     "metadata": {
      "needs_background": "light"
     },
     "output_type": "display_data"
    }
   ],
   "source": [
    "# plot score results\n",
    "from geneRNI import tools\n",
    "importlib.reload(tools)\n",
    "# plot scores for individual network\n",
    "tools.GOF.boxplot_scores_groupOfgroup([list(item.values()) for item in scores_stack.values()] ,\n",
    "                                      tags = [str(i) for i in range(1,6)], titles=['Size 10', 'Size 100'])\n"
   ]
  },
  {
   "cell_type": "code",
   "execution_count": 118,
   "id": "868a68c6",
   "metadata": {
    "scrolled": true
   },
   "outputs": [
    {
     "data": {
      "image/png": "[encoded data removed]",
      "text/plain": [
       "<Figure size 360x288 with 1 Axes>"
      ]
     },
     "metadata": {
      "needs_background": "light"
     },
     "output_type": "display_data"
    }
   ],
   "source": [
    "# plot PR results\n",
    "from geneRNI import tools\n",
    "importlib.reload(tools)\n",
    "\n",
    "tools.GOF.barplot_PR_groupOfgroup([list(item.values()) for item in PR_stack.values()] ,\n",
    "                                      tags = [str(i) for i in range(1,6)], titles=['Size 10', 'Size 100'])\n"
   ]
  },
  {
   "cell_type": "code",
   "execution_count": 109,
   "id": "6e5575e2",
   "metadata": {},
   "outputs": [
    {
     "name": "stdout",
     "output_type": "stream",
     "text": [
      "{10: {1: [{'min_samples_leaf': 1}, {'min_samples_leaf': 1}, {'min_samples_leaf': 1}, {'min_samples_leaf': 1}, {'min_samples_leaf': 3}, {'min_samples_leaf': 1}, {'min_samples_leaf': 2}, {'min_samples_leaf': 1}, {'min_samples_leaf': 1}, {'min_samples_leaf': 1}], 2: [{'min_samples_leaf': 2}, {'min_samples_leaf': 1}, {'min_samples_leaf': 3}, {'min_samples_leaf': 1}, {'min_samples_leaf': 1}, {'min_samples_leaf': 1}, {'min_samples_leaf': 3}, {'min_samples_leaf': 3}, {'min_samples_leaf': 1}, {'min_samples_leaf': 3}], 3: [{'min_samples_leaf': 1}, {'min_samples_leaf': 1}, {'min_samples_leaf': 1}, {'min_samples_leaf': 2}, {'min_samples_leaf': 1}, {'min_samples_leaf': 1}, {'min_samples_leaf': 3}, {'min_samples_leaf': 2}, {'min_samples_leaf': 1}, {'min_samples_leaf': 1}], 4: [{'min_samples_leaf': 3}, {'min_samples_leaf': 1}, {'min_samples_leaf': 2}, {'min_samples_leaf': 2}, {'min_samples_leaf': 1}, {'min_samples_leaf': 1}, {'min_samples_leaf': 1}, {'min_samples_leaf': 2}, {'min_samples_leaf': 1}, {'min_samples_leaf': 3}], 5: [{'min_samples_leaf': 4}, {'min_samples_leaf': 3}, {'min_samples_leaf': 2}, {'min_samples_leaf': 1}, {'min_samples_leaf': 3}, {'min_samples_leaf': 2}, {'min_samples_leaf': 1}, {'min_samples_leaf': 1}, {'min_samples_leaf': 3}, {'min_samples_leaf': 2}]}, 100: {1: [{'min_samples_leaf': 1}, {'min_samples_leaf': 2}, {'min_samples_leaf': 2}, {'min_samples_leaf': 2}, {'min_samples_leaf': 3}, {'min_samples_leaf': 1}, {'min_samples_leaf': 2}, {'min_samples_leaf': 5}, {'min_samples_leaf': 2}, {'min_samples_leaf': 2}, {'min_samples_leaf': 2}, {'min_samples_leaf': 2}, {'min_samples_leaf': 2}, {'min_samples_leaf': 2}, {'min_samples_leaf': 3}, {'min_samples_leaf': 1}, {'min_samples_leaf': 2}, {'min_samples_leaf': 1}, {'min_samples_leaf': 1}, {'min_samples_leaf': 3}, {'min_samples_leaf': 5}, {'min_samples_leaf': 3}, {'min_samples_leaf': 2}, {'min_samples_leaf': 5}, {'min_samples_leaf': 3}, {'min_samples_leaf': 1}, {'min_samples_leaf': 3}, {'min_samples_leaf': 1}, {'min_samples_leaf': 2}, {'min_samples_leaf': 3}, {'min_samples_leaf': 3}, {'min_samples_leaf': 1}, {'min_samples_leaf': 3}, {'min_samples_leaf': 4}, {'min_samples_leaf': 1}, {'min_samples_leaf': 3}, {'min_samples_leaf': 4}, {'min_samples_leaf': 2}, {'min_samples_leaf': 3}, {'min_samples_leaf': 1}, {'min_samples_leaf': 1}, {'min_samples_leaf': 2}, {'min_samples_leaf': 3}, {'min_samples_leaf': 3}, {'min_samples_leaf': 4}, {'min_samples_leaf': 3}, {'min_samples_leaf': 3}, {'min_samples_leaf': 1}, {'min_samples_leaf': 4}, {'min_samples_leaf': 2}, {'min_samples_leaf': 1}, {'min_samples_leaf': 2}, {'min_samples_leaf': 2}, {'min_samples_leaf': 2}, {'min_samples_leaf': 2}, {'min_samples_leaf': 1}, {'min_samples_leaf': 3}, {'min_samples_leaf': 1}, {'min_samples_leaf': 2}, {'min_samples_leaf': 1}, {'min_samples_leaf': 2}, {'min_samples_leaf': 3}, {'min_samples_leaf': 2}, {'min_samples_leaf': 2}, {'min_samples_leaf': 4}, {'min_samples_leaf': 1}, {'min_samples_leaf': 2}, {'min_samples_leaf': 3}, {'min_samples_leaf': 2}, {'min_samples_leaf': 1}, {'min_samples_leaf': 2}, {'min_samples_leaf': 1}, {'min_samples_leaf': 1}, {'min_samples_leaf': 3}, {'min_samples_leaf': 1}, {'min_samples_leaf': 1}, {'min_samples_leaf': 1}, {'min_samples_leaf': 1}, {'min_samples_leaf': 2}, {'min_samples_leaf': 1}, {'min_samples_leaf': 2}, {'min_samples_leaf': 2}, {'min_samples_leaf': 3}, {'min_samples_leaf': 2}, {'min_samples_leaf': 2}, {'min_samples_leaf': 2}, {'min_samples_leaf': 2}, {'min_samples_leaf': 3}, {'min_samples_leaf': 4}, {'min_samples_leaf': 3}, {'min_samples_leaf': 4}, {'min_samples_leaf': 2}, {'min_samples_leaf': 1}, {'min_samples_leaf': 4}, {'min_samples_leaf': 4}, {'min_samples_leaf': 2}, {'min_samples_leaf': 4}, {'min_samples_leaf': 3}, {'min_samples_leaf': 3}, {'min_samples_leaf': 3}], 2: [{'min_samples_leaf': 1}, {'min_samples_leaf': 3}, {'min_samples_leaf': 3}, {'min_samples_leaf': 1}, {'min_samples_leaf': 2}, {'min_samples_leaf': 2}, {'min_samples_leaf': 2}, {'min_samples_leaf': 1}, {'min_samples_leaf': 1}, {'min_samples_leaf': 3}, {'min_samples_leaf': 1}, {'min_samples_leaf': 2}, {'min_samples_leaf': 4}, {'min_samples_leaf': 5}, {'min_samples_leaf': 3}, {'min_samples_leaf': 1}, {'min_samples_leaf': 2}, {'min_samples_leaf': 1}, {'min_samples_leaf': 3}, {'min_samples_leaf': 3}, {'min_samples_leaf': 1}, {'min_samples_leaf': 3}, {'min_samples_leaf': 2}, {'min_samples_leaf': 2}, {'min_samples_leaf': 4}, {'min_samples_leaf': 3}, {'min_samples_leaf': 1}, {'min_samples_leaf': 1}, {'min_samples_leaf': 1}, {'min_samples_leaf': 1}, {'min_samples_leaf': 2}, {'min_samples_leaf': 2}, {'min_samples_leaf': 2}, {'min_samples_leaf': 3}, {'min_samples_leaf': 3}, {'min_samples_leaf': 1}, {'min_samples_leaf': 2}, {'min_samples_leaf': 3}, {'min_samples_leaf': 3}, {'min_samples_leaf': 1}, {'min_samples_leaf': 5}, {'min_samples_leaf': 2}, {'min_samples_leaf': 3}, {'min_samples_leaf': 3}, {'min_samples_leaf': 4}, {'min_samples_leaf': 4}, {'min_samples_leaf': 3}, {'min_samples_leaf': 4}, {'min_samples_leaf': 1}, {'min_samples_leaf': 2}, {'min_samples_leaf': 4}, {'min_samples_leaf': 3}, {'min_samples_leaf': 2}, {'min_samples_leaf': 3}, {'min_samples_leaf': 4}, {'min_samples_leaf': 3}, {'min_samples_leaf': 4}, {'min_samples_leaf': 3}, {'min_samples_leaf': 2}, {'min_samples_leaf': 2}, {'min_samples_leaf': 4}, {'min_samples_leaf': 2}, {'min_samples_leaf': 1}, {'min_samples_leaf': 4}, {'min_samples_leaf': 3}, {'min_samples_leaf': 2}, {'min_samples_leaf': 3}, {'min_samples_leaf': 1}, {'min_samples_leaf': 1}, {'min_samples_leaf': 1}, {'min_samples_leaf': 1}, {'min_samples_leaf': 2}, {'min_samples_leaf': 2}, {'min_samples_leaf': 3}, {'min_samples_leaf': 2}, {'min_samples_leaf': 2}, {'min_samples_leaf': 4}, {'min_samples_leaf': 1}, {'min_samples_leaf': 2}, {'min_samples_leaf': 1}, {'min_samples_leaf': 4}, {'min_samples_leaf': 2}, {'min_samples_leaf': 2}, {'min_samples_leaf': 2}, {'min_samples_leaf': 1}, {'min_samples_leaf': 1}, {'min_samples_leaf': 1}, {'min_samples_leaf': 3}, {'min_samples_leaf': 1}, {'min_samples_leaf': 4}, {'min_samples_leaf': 3}, {'min_samples_leaf': 2}, {'min_samples_leaf': 4}, {'min_samples_leaf': 1}, {'min_samples_leaf': 3}, {'min_samples_leaf': 4}, {'min_samples_leaf': 1}, {'min_samples_leaf': 2}, {'min_samples_leaf': 3}, {'min_samples_leaf': 4}], 3: [{'min_samples_leaf': 1}, {'min_samples_leaf': 3}, {'min_samples_leaf': 2}, {'min_samples_leaf': 1}, {'min_samples_leaf': 1}, {'min_samples_leaf': 1}, {'min_samples_leaf': 2}, {'min_samples_leaf': 4}, {'min_samples_leaf': 3}, {'min_samples_leaf': 3}, {'min_samples_leaf': 3}, {'min_samples_leaf': 3}, {'min_samples_leaf': 3}, {'min_samples_leaf': 2}, {'min_samples_leaf': 1}, {'min_samples_leaf': 1}, {'min_samples_leaf': 4}, {'min_samples_leaf': 3}, {'min_samples_leaf': 2}, {'min_samples_leaf': 3}, {'min_samples_leaf': 2}, {'min_samples_leaf': 4}, {'min_samples_leaf': 2}, {'min_samples_leaf': 2}, {'min_samples_leaf': 1}, {'min_samples_leaf': 5}, {'min_samples_leaf': 2}, {'min_samples_leaf': 1}, {'min_samples_leaf': 3}, {'min_samples_leaf': 2}, {'min_samples_leaf': 3}, {'min_samples_leaf': 3}, {'min_samples_leaf': 2}, {'min_samples_leaf': 3}, {'min_samples_leaf': 2}, {'min_samples_leaf': 3}, {'min_samples_leaf': 2}, {'min_samples_leaf': 2}, {'min_samples_leaf': 3}, {'min_samples_leaf': 2}, {'min_samples_leaf': 3}, {'min_samples_leaf': 5}, {'min_samples_leaf': 1}, {'min_samples_leaf': 1}, {'min_samples_leaf': 2}, {'min_samples_leaf': 2}, {'min_samples_leaf': 2}, {'min_samples_leaf': 3}, {'min_samples_leaf': 2}, {'min_samples_leaf': 2}, {'min_samples_leaf': 1}, {'min_samples_leaf': 1}, {'min_samples_leaf': 3}, {'min_samples_leaf': 1}, {'min_samples_leaf': 3}, {'min_samples_leaf': 2}, {'min_samples_leaf': 3}, {'min_samples_leaf': 2}, {'min_samples_leaf': 2}, {'min_samples_leaf': 3}, {'min_samples_leaf': 2}, {'min_samples_leaf': 1}, {'min_samples_leaf': 2}, {'min_samples_leaf': 4}, {'min_samples_leaf': 2}, {'min_samples_leaf': 2}, {'min_samples_leaf': 4}, {'min_samples_leaf': 1}, {'min_samples_leaf': 5}, {'min_samples_leaf': 1}, {'min_samples_leaf': 1}, {'min_samples_leaf': 2}, {'min_samples_leaf': 3}, {'min_samples_leaf': 3}, {'min_samples_leaf': 1}, {'min_samples_leaf': 2}, {'min_samples_leaf': 1}, {'min_samples_leaf': 1}, {'min_samples_leaf': 1}, {'min_samples_leaf': 3}, {'min_samples_leaf': 2}, {'min_samples_leaf': 4}, {'min_samples_leaf': 3}, {'min_samples_leaf': 3}, {'min_samples_leaf': 1}, {'min_samples_leaf': 4}, {'min_samples_leaf': 4}, {'min_samples_leaf': 3}, {'min_samples_leaf': 3}, {'min_samples_leaf': 1}, {'min_samples_leaf': 1}, {'min_samples_leaf': 3}, {'min_samples_leaf': 1}, {'min_samples_leaf': 2}, {'min_samples_leaf': 3}, {'min_samples_leaf': 4}, {'min_samples_leaf': 1}, {'min_samples_leaf': 3}, {'min_samples_leaf': 3}, {'min_samples_leaf': 3}], 4: [{'min_samples_leaf': 4}, {'min_samples_leaf': 2}, {'min_samples_leaf': 4}, {'min_samples_leaf': 3}, {'min_samples_leaf': 1}, {'min_samples_leaf': 3}, {'min_samples_leaf': 1}, {'min_samples_leaf': 1}, {'min_samples_leaf': 4}, {'min_samples_leaf': 2}, {'min_samples_leaf': 4}, {'min_samples_leaf': 1}, {'min_samples_leaf': 1}, {'min_samples_leaf': 4}, {'min_samples_leaf': 4}, {'min_samples_leaf': 2}, {'min_samples_leaf': 1}, {'min_samples_leaf': 3}, {'min_samples_leaf': 1}, {'min_samples_leaf': 3}, {'min_samples_leaf': 1}, {'min_samples_leaf': 2}, {'min_samples_leaf': 2}, {'min_samples_leaf': 2}, {'min_samples_leaf': 1}, {'min_samples_leaf': 2}, {'min_samples_leaf': 2}, {'min_samples_leaf': 1}, {'min_samples_leaf': 1}, {'min_samples_leaf': 1}, {'min_samples_leaf': 1}, {'min_samples_leaf': 2}, {'min_samples_leaf': 3}, {'min_samples_leaf': 2}, {'min_samples_leaf': 4}, {'min_samples_leaf': 3}, {'min_samples_leaf': 1}, {'min_samples_leaf': 4}, {'min_samples_leaf': 2}, {'min_samples_leaf': 1}, {'min_samples_leaf': 2}, {'min_samples_leaf': 4}, {'min_samples_leaf': 3}, {'min_samples_leaf': 3}, {'min_samples_leaf': 2}, {'min_samples_leaf': 4}, {'min_samples_leaf': 3}, {'min_samples_leaf': 2}, {'min_samples_leaf': 4}, {'min_samples_leaf': 4}, {'min_samples_leaf': 2}, {'min_samples_leaf': 4}, {'min_samples_leaf': 1}, {'min_samples_leaf': 3}, {'min_samples_leaf': 2}, {'min_samples_leaf': 1}, {'min_samples_leaf': 2}, {'min_samples_leaf': 1}, {'min_samples_leaf': 1}, {'min_samples_leaf': 3}, {'min_samples_leaf': 2}, {'min_samples_leaf': 4}, {'min_samples_leaf': 1}, {'min_samples_leaf': 2}, {'min_samples_leaf': 2}, {'min_samples_leaf': 2}, {'min_samples_leaf': 4}, {'min_samples_leaf': 1}, {'min_samples_leaf': 2}, {'min_samples_leaf': 2}, {'min_samples_leaf': 3}, {'min_samples_leaf': 1}, {'min_samples_leaf': 3}, {'min_samples_leaf': 2}, {'min_samples_leaf': 1}, {'min_samples_leaf': 1}, {'min_samples_leaf': 1}, {'min_samples_leaf': 1}, {'min_samples_leaf': 2}, {'min_samples_leaf': 4}, {'min_samples_leaf': 2}, {'min_samples_leaf': 4}, {'min_samples_leaf': 4}, {'min_samples_leaf': 1}, {'min_samples_leaf': 4}, {'min_samples_leaf': 3}, {'min_samples_leaf': 3}, {'min_samples_leaf': 2}, {'min_samples_leaf': 2}, {'min_samples_leaf': 2}, {'min_samples_leaf': 2}, {'min_samples_leaf': 3}, {'min_samples_leaf': 2}, {'min_samples_leaf': 2}, {'min_samples_leaf': 1}, {'min_samples_leaf': 4}, {'min_samples_leaf': 1}, {'min_samples_leaf': 2}, {'min_samples_leaf': 1}, {'min_samples_leaf': 3}], 5: [{'min_samples_leaf': 4}, {'min_samples_leaf': 1}, {'min_samples_leaf': 2}, {'min_samples_leaf': 3}, {'min_samples_leaf': 3}, {'min_samples_leaf': 1}, {'min_samples_leaf': 5}, {'min_samples_leaf': 2}, {'min_samples_leaf': 2}, {'min_samples_leaf': 2}, {'min_samples_leaf': 4}, {'min_samples_leaf': 2}, {'min_samples_leaf': 3}, {'min_samples_leaf': 3}, {'min_samples_leaf': 1}, {'min_samples_leaf': 1}, {'min_samples_leaf': 2}, {'min_samples_leaf': 1}, {'min_samples_leaf': 3}, {'min_samples_leaf': 4}, {'min_samples_leaf': 1}, {'min_samples_leaf': 2}, {'min_samples_leaf': 1}, {'min_samples_leaf': 2}, {'min_samples_leaf': 4}, {'min_samples_leaf': 1}, {'min_samples_leaf': 2}, {'min_samples_leaf': 2}, {'min_samples_leaf': 4}, {'min_samples_leaf': 4}, {'min_samples_leaf': 3}, {'min_samples_leaf': 1}, {'min_samples_leaf': 5}, {'min_samples_leaf': 4}, {'min_samples_leaf': 2}, {'min_samples_leaf': 3}, {'min_samples_leaf': 1}, {'min_samples_leaf': 1}, {'min_samples_leaf': 1}, {'min_samples_leaf': 2}, {'min_samples_leaf': 2}, {'min_samples_leaf': 3}, {'min_samples_leaf': 3}, {'min_samples_leaf': 1}, {'min_samples_leaf': 2}, {'min_samples_leaf': 4}, {'min_samples_leaf': 1}, {'min_samples_leaf': 2}, {'min_samples_leaf': 3}, {'min_samples_leaf': 2}, {'min_samples_leaf': 2}, {'min_samples_leaf': 2}, {'min_samples_leaf': 2}, {'min_samples_leaf': 2}, {'min_samples_leaf': 3}, {'min_samples_leaf': 2}, {'min_samples_leaf': 2}, {'min_samples_leaf': 1}, {'min_samples_leaf': 3}, {'min_samples_leaf': 1}, {'min_samples_leaf': 3}, {'min_samples_leaf': 2}, {'min_samples_leaf': 1}, {'min_samples_leaf': 2}, {'min_samples_leaf': 3}, {'min_samples_leaf': 2}, {'min_samples_leaf': 1}, {'min_samples_leaf': 1}, {'min_samples_leaf': 2}, {'min_samples_leaf': 3}, {'min_samples_leaf': 2}, {'min_samples_leaf': 4}, {'min_samples_leaf': 1}, {'min_samples_leaf': 1}, {'min_samples_leaf': 3}, {'min_samples_leaf': 4}, {'min_samples_leaf': 4}, {'min_samples_leaf': 3}, {'min_samples_leaf': 2}, {'min_samples_leaf': 4}, {'min_samples_leaf': 2}, {'min_samples_leaf': 4}, {'min_samples_leaf': 4}, {'min_samples_leaf': 2}, {'min_samples_leaf': 2}, {'min_samples_leaf': 2}, {'min_samples_leaf': 1}, {'min_samples_leaf': 4}, {'min_samples_leaf': 3}, {'min_samples_leaf': 3}, {'min_samples_leaf': 3}, {'min_samples_leaf': 3}, {'min_samples_leaf': 1}, {'min_samples_leaf': 2}, {'min_samples_leaf': 2}, {'min_samples_leaf': 2}, {'min_samples_leaf': 2}, {'min_samples_leaf': 1}, {'min_samples_leaf': 1}, {'min_samples_leaf': 1}]}}\n"
     ]
    },
    {
     "ename": "ValueError",
     "evalue": "shape mismatch: objects cannot be broadcast to a single shape.  Mismatch is between arg 0 with shape (5,) and arg 1 with shape (5, 10).",
     "output_type": "error",
     "traceback": [
      "\u001b[1;31m---------------------------------------------------------------------------\u001b[0m",
      "\u001b[1;31mValueError\u001b[0m                                Traceback (most recent call last)",
      "Input \u001b[1;32mIn [109]\u001b[0m, in \u001b[0;36m<cell line: 5>\u001b[1;34m()\u001b[0m\n\u001b[0;32m      3\u001b[0m importlib\u001b[38;5;241m.\u001b[39mreload(tools)\n\u001b[0;32m      4\u001b[0m \u001b[38;5;28mprint\u001b[39m(params_stack)\n\u001b[1;32m----> 5\u001b[0m \u001b[43mtools\u001b[49m\u001b[38;5;241;43m.\u001b[39;49m\u001b[43mGOF\u001b[49m\u001b[38;5;241;43m.\u001b[39;49m\u001b[43mbarplot_PR_groupOfgroup\u001b[49m\u001b[43m(\u001b[49m\u001b[43m[\u001b[49m\u001b[38;5;28;43mlist\u001b[39;49m\u001b[43m(\u001b[49m\u001b[43mitem\u001b[49m\u001b[38;5;241;43m.\u001b[39;49m\u001b[43mvalues\u001b[49m\u001b[43m(\u001b[49m\u001b[43m)\u001b[49m\u001b[43m)\u001b[49m\u001b[43m \u001b[49m\u001b[38;5;28;43;01mfor\u001b[39;49;00m\u001b[43m \u001b[49m\u001b[43mitem\u001b[49m\u001b[43m \u001b[49m\u001b[38;5;129;43;01min\u001b[39;49;00m\u001b[43m \u001b[49m\u001b[43mparams_stack\u001b[49m\u001b[38;5;241;43m.\u001b[39;49m\u001b[43mvalues\u001b[49m\u001b[43m(\u001b[49m\u001b[43m)\u001b[49m\u001b[43m]\u001b[49m\u001b[43m \u001b[49m\u001b[43m,\u001b[49m\n\u001b[0;32m      6\u001b[0m \u001b[43m                                      \u001b[49m\u001b[43mtags\u001b[49m\u001b[43m \u001b[49m\u001b[38;5;241;43m=\u001b[39;49m\u001b[43m \u001b[49m\u001b[43m[\u001b[49m\u001b[38;5;28;43mstr\u001b[39;49m\u001b[43m(\u001b[49m\u001b[43mi\u001b[49m\u001b[43m)\u001b[49m\u001b[43m \u001b[49m\u001b[38;5;28;43;01mfor\u001b[39;49;00m\u001b[43m \u001b[49m\u001b[43mi\u001b[49m\u001b[43m \u001b[49m\u001b[38;5;129;43;01min\u001b[39;49;00m\u001b[43m \u001b[49m\u001b[38;5;28;43mrange\u001b[39;49m\u001b[43m(\u001b[49m\u001b[38;5;241;43m1\u001b[39;49m\u001b[43m,\u001b[49m\u001b[38;5;241;43m6\u001b[39;49m\u001b[43m)\u001b[49m\u001b[43m]\u001b[49m\u001b[43m,\u001b[49m\u001b[43m \u001b[49m\u001b[43mtitles\u001b[49m\u001b[38;5;241;43m=\u001b[39;49m\u001b[43m[\u001b[49m\u001b[38;5;124;43m'\u001b[39;49m\u001b[38;5;124;43mSize 10\u001b[39;49m\u001b[38;5;124;43m'\u001b[39;49m\u001b[43m,\u001b[49m\u001b[43m \u001b[49m\u001b[38;5;124;43m'\u001b[39;49m\u001b[38;5;124;43mSize 100\u001b[39;49m\u001b[38;5;124;43m'\u001b[39;49m\u001b[43m]\u001b[49m\u001b[43m)\u001b[49m\n",
      "File \u001b[1;32m~\\Downloads\\testProjs\\omics\\geneRNI\\tools.py:518\u001b[0m, in \u001b[0;36mGOF.barplot_PR_groupOfgroup\u001b[1;34m(PR_stack_stack, tags, titles, xlabel)\u001b[0m\n\u001b[0;32m    516\u001b[0m \u001b[38;5;28;01mfor\u001b[39;00m i, PR_stack \u001b[38;5;129;01min\u001b[39;00m \u001b[38;5;28menumerate\u001b[39m(PR_stack_stack):\n\u001b[0;32m    517\u001b[0m     ax \u001b[38;5;241m=\u001b[39m axes[i]\n\u001b[1;32m--> 518\u001b[0m     \u001b[43max\u001b[49m\u001b[38;5;241;43m.\u001b[39;49m\u001b[43mbar\u001b[49m\u001b[43m(\u001b[49m\u001b[38;5;28;43mrange\u001b[39;49m\u001b[43m(\u001b[49m\u001b[38;5;241;43m1\u001b[39;49m\u001b[43m,\u001b[49m\u001b[38;5;28;43mlen\u001b[39;49m\u001b[43m(\u001b[49m\u001b[43mPR_stack\u001b[49m\u001b[43m)\u001b[49m\u001b[38;5;241;43m+\u001b[39;49m\u001b[38;5;241;43m1\u001b[39;49m\u001b[43m)\u001b[49m\u001b[43m,\u001b[49m\u001b[43mPR_stack\u001b[49m\u001b[43m)\u001b[49m\n\u001b[0;32m    519\u001b[0m     ax\u001b[38;5;241m.\u001b[39mset_ylabel(\u001b[38;5;124m'\u001b[39m\u001b[38;5;124mScore\u001b[39m\u001b[38;5;124m'\u001b[39m)\n\u001b[0;32m    520\u001b[0m     ax\u001b[38;5;241m.\u001b[39mset_xlabel(xlabel)\n",
      "File \u001b[1;32m~\\AppData\\Roaming\\Python\\Python38\\site-packages\\matplotlib\\__init__.py:1412\u001b[0m, in \u001b[0;36m_preprocess_data.<locals>.inner\u001b[1;34m(ax, data, *args, **kwargs)\u001b[0m\n\u001b[0;32m   1409\u001b[0m \u001b[38;5;129m@functools\u001b[39m\u001b[38;5;241m.\u001b[39mwraps(func)\n\u001b[0;32m   1410\u001b[0m \u001b[38;5;28;01mdef\u001b[39;00m \u001b[38;5;21minner\u001b[39m(ax, \u001b[38;5;241m*\u001b[39margs, data\u001b[38;5;241m=\u001b[39m\u001b[38;5;28;01mNone\u001b[39;00m, \u001b[38;5;241m*\u001b[39m\u001b[38;5;241m*\u001b[39mkwargs):\n\u001b[0;32m   1411\u001b[0m     \u001b[38;5;28;01mif\u001b[39;00m data \u001b[38;5;129;01mis\u001b[39;00m \u001b[38;5;28;01mNone\u001b[39;00m:\n\u001b[1;32m-> 1412\u001b[0m         \u001b[38;5;28;01mreturn\u001b[39;00m \u001b[43mfunc\u001b[49m\u001b[43m(\u001b[49m\u001b[43max\u001b[49m\u001b[43m,\u001b[49m\u001b[43m \u001b[49m\u001b[38;5;241;43m*\u001b[39;49m\u001b[38;5;28;43mmap\u001b[39;49m\u001b[43m(\u001b[49m\u001b[43msanitize_sequence\u001b[49m\u001b[43m,\u001b[49m\u001b[43m \u001b[49m\u001b[43margs\u001b[49m\u001b[43m)\u001b[49m\u001b[43m,\u001b[49m\u001b[43m \u001b[49m\u001b[38;5;241;43m*\u001b[39;49m\u001b[38;5;241;43m*\u001b[39;49m\u001b[43mkwargs\u001b[49m\u001b[43m)\u001b[49m\n\u001b[0;32m   1414\u001b[0m     bound \u001b[38;5;241m=\u001b[39m new_sig\u001b[38;5;241m.\u001b[39mbind(ax, \u001b[38;5;241m*\u001b[39margs, \u001b[38;5;241m*\u001b[39m\u001b[38;5;241m*\u001b[39mkwargs)\n\u001b[0;32m   1415\u001b[0m     auto_label \u001b[38;5;241m=\u001b[39m (bound\u001b[38;5;241m.\u001b[39marguments\u001b[38;5;241m.\u001b[39mget(label_namer)\n\u001b[0;32m   1416\u001b[0m                   \u001b[38;5;129;01mor\u001b[39;00m bound\u001b[38;5;241m.\u001b[39mkwargs\u001b[38;5;241m.\u001b[39mget(label_namer))\n",
      "File \u001b[1;32m~\\AppData\\Roaming\\Python\\Python38\\site-packages\\matplotlib\\axes\\_axes.py:2342\u001b[0m, in \u001b[0;36mAxes.bar\u001b[1;34m(self, x, height, width, bottom, align, **kwargs)\u001b[0m\n\u001b[0;32m   2339\u001b[0m     \u001b[38;5;28;01mif\u001b[39;00m yerr \u001b[38;5;129;01mis\u001b[39;00m \u001b[38;5;129;01mnot\u001b[39;00m \u001b[38;5;28;01mNone\u001b[39;00m:\n\u001b[0;32m   2340\u001b[0m         yerr \u001b[38;5;241m=\u001b[39m \u001b[38;5;28mself\u001b[39m\u001b[38;5;241m.\u001b[39m_convert_dx(yerr, y0, y, \u001b[38;5;28mself\u001b[39m\u001b[38;5;241m.\u001b[39mconvert_yunits)\n\u001b[1;32m-> 2342\u001b[0m x, height, width, y, linewidth, hatch \u001b[38;5;241m=\u001b[39m \u001b[43mnp\u001b[49m\u001b[38;5;241;43m.\u001b[39;49m\u001b[43mbroadcast_arrays\u001b[49m\u001b[43m(\u001b[49m\n\u001b[0;32m   2343\u001b[0m \u001b[43m    \u001b[49m\u001b[38;5;66;43;03m# Make args iterable too.\u001b[39;49;00m\n\u001b[0;32m   2344\u001b[0m \u001b[43m    \u001b[49m\u001b[43mnp\u001b[49m\u001b[38;5;241;43m.\u001b[39;49m\u001b[43matleast_1d\u001b[49m\u001b[43m(\u001b[49m\u001b[43mx\u001b[49m\u001b[43m)\u001b[49m\u001b[43m,\u001b[49m\u001b[43m \u001b[49m\u001b[43mheight\u001b[49m\u001b[43m,\u001b[49m\u001b[43m \u001b[49m\u001b[43mwidth\u001b[49m\u001b[43m,\u001b[49m\u001b[43m \u001b[49m\u001b[43my\u001b[49m\u001b[43m,\u001b[49m\u001b[43m \u001b[49m\u001b[43mlinewidth\u001b[49m\u001b[43m,\u001b[49m\u001b[43m \u001b[49m\u001b[43mhatch\u001b[49m\u001b[43m)\u001b[49m\n\u001b[0;32m   2346\u001b[0m \u001b[38;5;66;03m# Now that units have been converted, set the tick locations.\u001b[39;00m\n\u001b[0;32m   2347\u001b[0m \u001b[38;5;28;01mif\u001b[39;00m orientation \u001b[38;5;241m==\u001b[39m \u001b[38;5;124m'\u001b[39m\u001b[38;5;124mvertical\u001b[39m\u001b[38;5;124m'\u001b[39m:\n",
      "File \u001b[1;32m<__array_function__ internals>:180\u001b[0m, in \u001b[0;36mbroadcast_arrays\u001b[1;34m(*args, **kwargs)\u001b[0m\n",
      "File \u001b[1;32m~\\Anaconda3\\envs\\py38\\lib\\site-packages\\numpy\\lib\\stride_tricks.py:539\u001b[0m, in \u001b[0;36mbroadcast_arrays\u001b[1;34m(subok, *args)\u001b[0m\n\u001b[0;32m    532\u001b[0m \u001b[38;5;66;03m# nditer is not used here to avoid the limit of 32 arrays.\u001b[39;00m\n\u001b[0;32m    533\u001b[0m \u001b[38;5;66;03m# Otherwise, something like the following one-liner would suffice:\u001b[39;00m\n\u001b[0;32m    534\u001b[0m \u001b[38;5;66;03m# return np.nditer(args, flags=['multi_index', 'zerosize_ok'],\u001b[39;00m\n\u001b[0;32m    535\u001b[0m \u001b[38;5;66;03m#                  order='C').itviews\u001b[39;00m\n\u001b[0;32m    537\u001b[0m args \u001b[38;5;241m=\u001b[39m [np\u001b[38;5;241m.\u001b[39marray(_m, copy\u001b[38;5;241m=\u001b[39m\u001b[38;5;28;01mFalse\u001b[39;00m, subok\u001b[38;5;241m=\u001b[39msubok) \u001b[38;5;28;01mfor\u001b[39;00m _m \u001b[38;5;129;01min\u001b[39;00m args]\n\u001b[1;32m--> 539\u001b[0m shape \u001b[38;5;241m=\u001b[39m \u001b[43m_broadcast_shape\u001b[49m\u001b[43m(\u001b[49m\u001b[38;5;241;43m*\u001b[39;49m\u001b[43margs\u001b[49m\u001b[43m)\u001b[49m\n\u001b[0;32m    541\u001b[0m \u001b[38;5;28;01mif\u001b[39;00m \u001b[38;5;28mall\u001b[39m(array\u001b[38;5;241m.\u001b[39mshape \u001b[38;5;241m==\u001b[39m shape \u001b[38;5;28;01mfor\u001b[39;00m array \u001b[38;5;129;01min\u001b[39;00m args):\n\u001b[0;32m    542\u001b[0m     \u001b[38;5;66;03m# Common case where nothing needs to be broadcasted.\u001b[39;00m\n\u001b[0;32m    543\u001b[0m     \u001b[38;5;28;01mreturn\u001b[39;00m args\n",
      "File \u001b[1;32m~\\Anaconda3\\envs\\py38\\lib\\site-packages\\numpy\\lib\\stride_tricks.py:421\u001b[0m, in \u001b[0;36m_broadcast_shape\u001b[1;34m(*args)\u001b[0m\n\u001b[0;32m    416\u001b[0m \u001b[38;5;124;03m\"\"\"Returns the shape of the arrays that would result from broadcasting the\u001b[39;00m\n\u001b[0;32m    417\u001b[0m \u001b[38;5;124;03msupplied arrays against each other.\u001b[39;00m\n\u001b[0;32m    418\u001b[0m \u001b[38;5;124;03m\"\"\"\u001b[39;00m\n\u001b[0;32m    419\u001b[0m \u001b[38;5;66;03m# use the old-iterator because np.nditer does not handle size 0 arrays\u001b[39;00m\n\u001b[0;32m    420\u001b[0m \u001b[38;5;66;03m# consistently\u001b[39;00m\n\u001b[1;32m--> 421\u001b[0m b \u001b[38;5;241m=\u001b[39m \u001b[43mnp\u001b[49m\u001b[38;5;241;43m.\u001b[39;49m\u001b[43mbroadcast\u001b[49m\u001b[43m(\u001b[49m\u001b[38;5;241;43m*\u001b[39;49m\u001b[43margs\u001b[49m\u001b[43m[\u001b[49m\u001b[43m:\u001b[49m\u001b[38;5;241;43m32\u001b[39;49m\u001b[43m]\u001b[49m\u001b[43m)\u001b[49m\n\u001b[0;32m    422\u001b[0m \u001b[38;5;66;03m# unfortunately, it cannot handle 32 or more arguments directly\u001b[39;00m\n\u001b[0;32m    423\u001b[0m \u001b[38;5;28;01mfor\u001b[39;00m pos \u001b[38;5;129;01min\u001b[39;00m \u001b[38;5;28mrange\u001b[39m(\u001b[38;5;241m32\u001b[39m, \u001b[38;5;28mlen\u001b[39m(args), \u001b[38;5;241m31\u001b[39m):\n\u001b[0;32m    424\u001b[0m     \u001b[38;5;66;03m# ironically, np.broadcast does not properly handle np.broadcast\u001b[39;00m\n\u001b[0;32m    425\u001b[0m     \u001b[38;5;66;03m# objects (it treats them as scalars)\u001b[39;00m\n\u001b[0;32m    426\u001b[0m     \u001b[38;5;66;03m# use broadcasting to avoid allocating the full array\u001b[39;00m\n",
      "\u001b[1;31mValueError\u001b[0m: shape mismatch: objects cannot be broadcast to a single shape.  Mismatch is between arg 0 with shape (5,) and arg 1 with shape (5, 10)."
     ]
    },
    {
     "data": {
      "image/png": "[encoded data removed]",
      "text/plain": [
       "<Figure size 720x288 with 2 Axes>"
      ]
     },
     "metadata": {
      "needs_background": "light"
     },
     "output_type": "display_data"
    }
   ],
   "source": [
    "# plot best params \n",
    "from geneRNI import tools\n",
    "importlib.reload(tools)\n",
    "print(params_stack)\n",
    "tools.GOF.barplot_PR_groupOfgroup([list(item.values()) for item in params_stack.values()] ,\n",
    "                                      tags = [str(i) for i in range(1,6)], titles=['Size 10', 'Size 100'])"
   ]
  },
  {
   "cell_type": "code",
   "execution_count": null,
   "id": "39b7c488",
   "metadata": {},
   "outputs": [],
   "source": [
    "# post processing: calculate links, golden precision scores, and plot param distribution \n",
    "import os\n",
    "import ast\n",
    "import importlib\n",
    "import pandas as pd\n",
    "import numpy as np\n",
    "from geneRNI import search_param\n",
    "from geneRNI import tools\n",
    "from geneRNI import geneRNI as ni\n",
    "import itertools\n",
    "import random\n",
    "importlib.reload(search_param)\n",
    "importlib.reload(ni)\n",
    "importlib.reload(tools)\n",
    "\n",
    "dir_main = 'C:/Users/nourisa/Downloads/testProjs/omics'\n",
    "output_dir=os.path.join(dir_main,'results')\n",
    "# choose the study \n",
    "# size, network, study= 10, 1, 'dreams'\n",
    "method, noise_level, network, study= 'GeneNetWeaver', 'LowNoise', 'Network1', 'GRNbenchmark'\n",
    "\n",
    "# recreate the experiment\n",
    "estimator_t = 'RF' #'HGB'\n",
    "study = 'GRNbenchmark' #'GRNbenchmark'\n",
    "\n",
    "if study == 'dreams': # dream as target study\n",
    "    size, network = 10, 1 # [10,100] [1-5]\n",
    "    out_data = tools.Benchmark.process_data_dreams(size=size, network=network, estimator_t=estimator_t)\n",
    "    results_dir = f'results/param_search_dream_{size}_{network}.txt'\n",
    "elif study == 'GRNbenchmark':\n",
    "    method, noise_level, network = 'GeneNetWeaver', 'LowNoise', 'Network1'\n",
    "    out_data = tools.Benchmark.process_data_GRNbenchmark(method, noise_level, network, estimator_t=estimator_t)\n",
    "    results_dir = f'results/param_search_GRNbenchmark_{method}_{noise_level}_{network}.txt'\n",
    "else:\n",
    "    raise ValueError('Define')\n",
    "out_defaults = tools.Settings.default(estimator_t=estimator_t)\n",
    "\n",
    "# retreieve param search results\n",
    "with open(results_dir,'r') as f:\n",
    "    out = ast.literal_eval(f.read())\n",
    "best_scores, best_params = out['best_scores'], out['best_params']\n",
    "\n",
    "# param_unique = tools.param_unique_average(best_params)\n",
    "param_unique = best_params\n",
    "# nework inference\n",
    "_, train_scores, links, oob_scores, test_scores = ni.network_inference(Xs=out_data.Xs_train, ys=out_data.ys_train, \n",
    "                                                                       param=out_defaults.param, Xs_test=out_data.Xs_test, \n",
    "                                                                       ys_test=out_data.ys_test, param_unique=param_unique)\n",
    "# plot\n",
    "with open(os.path.join(output_dir,'permts.txt'),'r') as f:\n",
    "    permts = ast.literal_eval(f.read())\n",
    "with open(os.path.join(output_dir, 'sampled_permts.txt'), 'r') as f:\n",
    "    sampled_permts = ast.literal_eval(f.read())\n",
    "search_param.plot(best_params,best_scores, priors = permts, samples = sampled_permts)"
   ]
  },
  {
   "cell_type": "code",
   "execution_count": null,
   "id": "9ab89947",
   "metadata": {},
   "outputs": [],
   "source": [
    "# plot precision vs racals\n",
    "precision, recall, average_precision = utils.calculate_PR(gene_names=gene_names, scores=scores, tests=tests, details = True)\n",
    "\n",
    "utils.PR_curve_average(recall=recall, precision=precision, average_precision=average_precision)\n",
    "utils.PR_curve_gene(gene_names=gene_names[0:2], precision=precision, recall=recall, average_precision=average_precision)"
   ]
  },
  {
   "cell_type": "code",
   "execution_count": null,
   "id": "44d1a443",
   "metadata": {},
   "outputs": [],
   "source": [
    "# write test data for R\n",
    "TS_data, time_points, SS_data, gene_names = f_data_dream(size, network)\n",
    "np.savetxt('data/test_data.csv',SS_data.transpose(), delimiter=',')"
   ]
  },
  {
   "cell_type": "code",
   "execution_count": null,
   "id": "6bb962af",
   "metadata": {},
   "outputs": [],
   "source": [
    "# calculate precision score for r results\n",
    "import os\n",
    "import pandas as pd\n",
    "pd.options.mode.chained_assignment = None\n",
    "import numpy as np\n",
    "import sys\n",
    "dir_main = 'C:/Users/nourisa/Downloads/testProjs/omics'\n",
    "\n",
    "sys.path.insert(0, dir_main)\n",
    "from geneRNI import tools\n",
    "\n",
    "size = 10 # [10,100]\n",
    "network = 1 # [1-5]\n",
    "\n",
    "def f_golden_dream(size, network): \n",
    "    \"\"\" retreives golden links for dreams for given size and network \"\"\"\n",
    "    dir_ = os.path.join(dir_main,f'dynGENIE3/dynGENIE3_data/dream4/gold_standards/{size}/DREAM4_GoldStandard_InSilico_Size{size}_{network}.tsv')\n",
    "    return pd.read_csv(dir_, names=['Regulator','Target','Weight'] ,sep='\\t') \n",
    "def f_dir_links(size, network):\n",
    "    \"\"\" returns the dir to the stored links \"\"\"\n",
    "    return os.path.join(dir_main,f'results/test_links.csv')\n",
    "def f_data_dream(size, network): \n",
    "    \"\"\" retreives train data for dreams for given size and network\"\"\"\n",
    "    (TS_data, time_points, SS_data) = pd.read_pickle(os.path.join(dir_main,f'dynGENIE3/dynGENIE3_data/dream4/data/size{size}_{network}_data.pkl'))\n",
    "    gene_names = [f'G{i}' for i in range(1,size+1)]\n",
    "    return TS_data, time_points, SS_data, gene_names\n",
    "TS_data, time_points, SS_data, gene_names = f_data_dream(size, network)\n",
    "links = pd.read_csv(f_dir_links(size, network) )\n",
    "goldens = f_golden_dream(size, network)\n",
    "# sort links based on each gene\n",
    "links_sorted = tools.sort_links(links,gene_names)\n",
    "goldens_sorted = tools.sort_links(goldens,gene_names)\n",
    "# calculate PR\n",
    "scores = np.array(list(goldens_sorted.values()))\n",
    "tests = np.array(list(links_sorted.values()))\n",
    "_, _, _, average_precision_overall = tools.calculate_PR(gene_names=gene_names, scores=scores, tests=tests, details = False)\n",
    "print('average precision : ',average_precision_overall)"
   ]
  },
  {
   "cell_type": "code",
   "execution_count": 154,
   "id": "ae913fd9",
   "metadata": {},
   "outputs": [
    {
     "name": "stdout",
     "output_type": "stream",
     "text": [
      "Tree method: RF\n",
      "K: sqrt\n",
      "Number of trees: 1000\n",
      "alpha min: 0.003434072665420958\n",
      "alpha max: 0.025135982338199504\n",
      "\n",
      "\n",
      "running single threaded jobs\n",
      "Gene 1/10...\n",
      "Gene 2/10...\n",
      "Gene 3/10...\n",
      "Gene 4/10...\n",
      "Gene 5/10...\n",
      "Gene 6/10...\n",
      "Gene 7/10...\n",
      "Gene 8/10...\n",
      "Gene 9/10...\n",
      "Gene 10/10...\n",
      "Elapsed time: 11.84 seconds\n"
     ]
    }
   ],
   "source": [
    "## dynGENIE3\n",
    "import importlib\n",
    "import os\n",
    "import pandas as pd\n",
    "pd.options.mode.chained_assignment = None\n",
    "import numpy as np\n",
    "import sys\n",
    "dir_main = 'C:/Users/nourisa/Downloads/testProjs/omics'\n",
    "\n",
    "sys.path.insert(0, os.path.join(dir_main,'..'))\n",
    "from dynGENIE3 import dynGENIE3 \n",
    "importlib.reload(dynGENIE3)\n",
    "import _pickle\n",
    "links_file_name = os.path.join(dir_main,'results/links_dynGENIE3.txt')\n",
    "TS_data, time_points, SS_data, gene_names = tools.Benchmark.f_data_dream(size=10,network=1)\n",
    "VIM, alphas, prediction_score, stability_score, treeEstimators,scores_train = dynGENIE3.dynGENIE3(TS_data = TS_data, SS_data = SS_data,time_points=time_points, compute_quality_scores=True)\n",
    "dynGENIE3.get_link_list(VIM, gene_names=gene_names, file_name=links_file_name)"
   ]
  },
  {
   "cell_type": "code",
   "execution_count": 163,
   "id": "c188905a",
   "metadata": {},
   "outputs": [
    {
     "name": "stdout",
     "output_type": "stream",
     "text": [
      "oob score: mean 0.7653465206279951 std 0.20966361225633456\n",
      "0.5686362358410126\n"
     ]
    }
   ],
   "source": [
    "# post process dynGENIE3\n",
    "import pandas as pd\n",
    "# oob score\n",
    "print(f'oob score: mean {np.mean(prediction_score)} std {np.std(prediction_score)}')\n",
    "links_df = pd.read_csv(links_file_name, delim_whitespace=True, header=None)\n",
    "links_df.columns = ['Regulator','Target','Weight']\n",
    "links_df = tools.Links.sort(links_df, gene_names)\n",
    "golden_links = tools.Benchmark.f_golden_dream(10,1)\n",
    "_,_,_, average_PR = tools.GOF.calculate_PR(links=links_df, golden_links=golden_links, gene_names=gene_names)\n",
    "print(-np.log10(.27))"
   ]
  }
 ],
 "metadata": {
  "kernelspec": {
   "display_name": "Python 3 (ipykernel)",
   "language": "python",
   "name": "python3"
  },
  "language_info": {
   "codemirror_mode": {
    "name": "ipython",
    "version": 3
   },
   "file_extension": ".py",
   "mimetype": "text/x-python",
   "name": "python",
   "nbconvert_exporter": "python",
   "pygments_lexer": "ipython3",
   "version": "3.8.13"
  }
 },
 "nbformat": 4,
 "nbformat_minor": 5
}
