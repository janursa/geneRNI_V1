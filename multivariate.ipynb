{
 "cells": [
  {
   "cell_type": "code",
   "execution_count": 1,
   "id": "197b9c49",
   "metadata": {},
   "outputs": [],
   "source": [
    "import pandas as pd\n",
    "pd.options.mode.chained_assignment = None  # default='warn'\n",
    "import os\n",
    "import sys\n",
    "import numpy as np\n",
    "main_dir = 'C:/Users/nourisa/Downloads/testProjs/geneRNI/'"
   ]
  },
  {
   "cell_type": "code",
   "execution_count": 10,
   "id": "cafdcfe1",
   "metadata": {},
   "outputs": [
    {
     "name": "stdout",
     "output_type": "stream",
     "text": [
      "dynamic data: ngenes: 10, nsamples: 90, n regulators: 10\n",
      "static data: ngenes: 10, nsamples: 31, n regulators: 10\n",
      "(121, 10)\n",
      "(121, 10)\n"
     ]
    }
   ],
   "source": [
    "# data processing and reformatting\n",
    "from geneRNI import tools\n",
    "from geneRNI import geneRNI\n",
    "from sklearn.ensemble import RandomForestRegressor\n",
    "from sklearn import model_selection\n",
    "import importlib\n",
    "importlib.reload(tools)\n",
    "TS_data, time_points, SS_data, gene_names = tools.Benchmark.f_data_dream4(10,1)\n",
    "Xs, ys = tools.Data.process(TS_data = TS_data, SS_data = SS_data, time_points = time_points, gene_names=gene_names, regulators = 'all', KO = None, verbose=True)\n",
    "\n",
    "Xs = Xs[0] #because they are all same\n",
    "\n",
    "ys = np.array(ys) \n",
    "ys = ys.T # to change the sample and gene order\n",
    "print(Xs.shape)\n",
    "print(ys.shape)\n",
    "\n",
    "X_train, X_test, y_train, y_test = model_selection.train_test_split(Xs, ys, test_size=.2)"
   ]
  },
  {
   "cell_type": "code",
   "execution_count": 3,
   "id": "762e73a5",
   "metadata": {},
   "outputs": [],
   "source": [
    "# regressor \n",
    "from sklearn import base\n",
    "from sklearn import utils\n",
    "from sklearn import ensemble\n",
    "class GenesEstimator(base.BaseEstimator,base.RegressorMixin):\n",
    "    \"\"\"The docstring for a class should summarize its behavior and list the public methods and instance variables \"\"\"\n",
    "    def __init__(self, decay_coeff = 0, **params):\n",
    "        '''args should all be keyword arguments with a default value -> kwargs should be all the keyword params of all regressors with values'''\n",
    "        '''they should not be documented under the “Attributes” section, but rather under the “Parameters” section for that estimator.'''\n",
    "        '''every keyword argument accepted by __init__ should correspond to an attribute on the instance'''\n",
    "        '''There should be no logic, not even input validation, and the parameters should not be changed. The corresponding logic should be put where the parameters are used, typically in fit'''\n",
    "        '''algorithm-specific unit tests,'''\n",
    "        # self.decay_coeff = decay_coeff\n",
    "        self.params = params\n",
    "        self.decay_coeff = decay_coeff\n",
    "        self.est = None\n",
    "        # self._required_parameters = () #estimators also need to declare any non-optional parameters to __init__ in the\n",
    "    def fit(self, Xs, ys):\n",
    "        \"\"\" fit X to y\n",
    "        X -- Array-like of shape (n_samples, n_features)\n",
    "        y -- Array-like of shape (n_samples,)\n",
    "        kwargs -- Optional data-dependent parameters\n",
    "        \"\"\"\n",
    "        '''Attributes that have been estimated from the data must always have a name ending with trailing underscore'''\n",
    "        '''The estimated attributes are expected to be overridden when you call fit a second time.'''\n",
    "        \n",
    "        # apply decay_coeff to y\n",
    "        ys = np.array([[y_i(self.decay_coeff) for y_i in y] for y in ys])\n",
    "#         utils.check_array(Xs)\n",
    "#         utils.check_X_y(Xs,ys)\n",
    "#         utils.indexable(Xs)\n",
    "#         utils.indexable(ys)\n",
    "\n",
    "        self.X_ = Xs\n",
    "        self.y_ = ys\n",
    "        \n",
    "        self.est = ensemble.RandomForestRegressor(oob_score = True,**self.params)\n",
    "        \n",
    "        self.est.fit(Xs,ys)\n",
    "        return self\n",
    "    def predict(self,Xs):\n",
    "        \"\"\" \"\"\"\n",
    "        utils.validation.check_is_fitted(self.est)\n",
    "        return self.est.predict(Xs)\n",
    "    def score(self, Xs, ys): \n",
    "        \"\"\" \"\"\"\n",
    "        # apply decay_coeff to y\n",
    "        ys = np.array([[y_i(self.decay_coeff) for y_i in y] for y in ys])\n",
    "        utils.validation.check_is_fitted(self.est)\n",
    "#         utils.check_array(Xs)\n",
    "#         utils.check_X_y(Xs,ys)\n",
    "#         utils.indexable(Xs)\n",
    "#         utils.indexable(ys)\n",
    "        # print(self.est.score(X,y))\n",
    "        return self.est.score(Xs,ys)\n",
    "\n",
    "    \n",
    "    def get_params(self,deep=True):\n",
    "        \"\"\" The get_params function takes no arguments and returns a dict of \n",
    "        the __init__ parameters of the estimator, together with their values. \n",
    "\n",
    "        \"\"\"\n",
    "        return { 'decay_coeff': self.decay_coeff, **self.params}\n",
    "    def set_params(self, **parameters):\n",
    "        \"\"\" \"\"\"\n",
    "        for parameter, value in parameters.items():\n",
    "            setattr(self, parameter, value)\n",
    "        return self\n",
    "    def _more_tags(self):\n",
    "        \"\"\" \"\"\"\n",
    "        allow_nan = False\n",
    "        return {'requires_fit': True, 'allow_nan': allow_nan, 'multioutput': True, \n",
    "            'requires_y': True,}"
   ]
  },
  {
   "cell_type": "code",
   "execution_count": 4,
   "id": "62e7af24",
   "metadata": {},
   "outputs": [
    {
     "data": {
      "text/plain": [
       "0.5217633015384048"
      ]
     },
     "execution_count": 4,
     "metadata": {},
     "output_type": "execute_result"
    }
   ],
   "source": [
    "# reg = GenesEstimator()\n",
    "# reg.fit(X_train, y_train)\n",
    "# reg.score(X_test, y_test)"
   ]
  },
  {
   "cell_type": "code",
   "execution_count": 5,
   "id": "ee4f5872",
   "metadata": {},
   "outputs": [],
   "source": [
    "# param tuning sklearn\n",
    "# from sklearn import model_selection\n",
    "# distributions = dict(decay_coeff=np.arange(0,1,.1))\n",
    "# clf = model_selection.RandomizedSearchCV(reg, param_distributions=distributions, n_iter=10, n_jobs=10, cv=4, random_state=None)\n",
    "# outs = clf.fit(X_train, y_train) "
   ]
  },
  {
   "cell_type": "code",
   "execution_count": 20,
   "id": "46eb612c",
   "metadata": {},
   "outputs": [
    {
     "name": "stdout",
     "output_type": "stream",
     "text": [
      "stats: 10 permts 1 threads\n",
      "Running 10 samples randomly\n",
      "Param search is completed in 1.060 seconds\n"
     ]
    }
   ],
   "source": [
    "# param tuning \n",
    "from geneRNI import search_param_mv\n",
    "import importlib\n",
    "importlib.reload(search_param_mv)\n",
    "distributions = dict(decay_coeff=np.arange(0,1,.1))\n",
    "best_score, best_param, sampled_permts_sorted = search_param_mv.rand_search(reg, X_train, y_train, param_grid=distributions, n_jobs = 1)"
   ]
  },
  {
   "cell_type": "code",
   "execution_count": 21,
   "id": "5ca5f616",
   "metadata": {},
   "outputs": [
    {
     "name": "stdout",
     "output_type": "stream",
     "text": [
      "0.6575148473423764\n"
     ]
    }
   ],
   "source": [
    "print(best_score)\n"
   ]
  }
 ],
 "metadata": {
  "kernelspec": {
   "display_name": "Python 3 (ipykernel)",
   "language": "python",
   "name": "python3"
  },
  "language_info": {
   "codemirror_mode": {
    "name": "ipython",
    "version": 3
   },
   "file_extension": ".py",
   "mimetype": "text/x-python",
   "name": "python",
   "nbconvert_exporter": "python",
   "pygments_lexer": "ipython3",
   "version": "3.8.13"
  }
 },
 "nbformat": 4,
 "nbformat_minor": 5
}
