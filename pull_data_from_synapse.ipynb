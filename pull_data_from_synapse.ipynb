{
 "cells": [
  {
   "cell_type": "code",
   "execution_count": 23,
   "id": "9c81594d",
   "metadata": {},
   "outputs": [
    {
     "name": "stdout",
     "output_type": "stream",
     "text": [
      "Welcome, nourisamj!\n",
      "\n"
     ]
    }
   ],
   "source": [
    "import synapseclient \n",
    "import synapseutils \n",
    "\n",
    "syn = synapseclient.Synapse() \n",
    "syn.login('nourisamj','rainboy145') \n",
    "# dream5_files = synapseutils.syncFromSynapse(syn, 'syn2787211') \n",
    "dream4_files = synapseutils.syncFromSynapse(syn, 'syn3049714') "
   ]
  },
  {
   "cell_type": "code",
   "execution_count": 26,
   "id": "e803cb00",
   "metadata": {},
   "outputs": [
    {
     "data": {
      "text/plain": [
       "5"
      ]
     },
     "execution_count": 26,
     "metadata": {},
     "output_type": "execute_result"
    }
   ],
   "source": [
    "len(dream4_files)"
   ]
  },
  {
   "cell_type": "code",
   "execution_count": 25,
   "id": "83e5d949",
   "metadata": {},
   "outputs": [
    {
     "name": "stdout",
     "output_type": "stream",
     "text": [
      "File: DREAM4_InSilico_Size10.zip (syn3049732)\n",
      "  md5=49206cf0c79dc9bd819b0066cb70dbe9\n",
      "  fileSize=37828\n",
      "  contentType=application/x-zip\n",
      "  externalURL=None\n",
      "  cacheDir=c:/users/nourisa/.synapsecache/320/861320\n",
      "  files=['dream4_insilico_size10.zip']\n",
      "  path=c:\\users\\nourisa\\.synapsecache\\320\\861320\\dream4_insilico_size10.zip\n",
      "  synapseStore=True\n",
      "properties:\n",
      "  concreteType=org.sagebionetworks.repo.model.FileEntity\n",
      "  createdBy=375805\n",
      "  createdOn=2015-01-07T15:02:19.541Z\n",
      "  dataFileHandleId=861320\n",
      "  etag=5b5b753e-7ab2-11e9-98fa-026b0a0ad230\n",
      "  id=syn3049732\n",
      "  isLatestVersion=True\n",
      "  modifiedBy=375805\n",
      "  modifiedOn=2015-01-07T15:02:19.541Z\n",
      "  name=DREAM4_InSilico_Size10.zip\n",
      "  parentId=syn3049715\n",
      "  versionLabel=1\n",
      "  versionNumber=1\n",
      "annotations:\n",
      "\n",
      "File: DREAM4_InSilico_Size100.zip (syn3049733)\n",
      "  md5=3a3529ce68249238e8e928d03ab1a50b\n",
      "  fileSize=890813\n",
      "  contentType=application/x-zip\n",
      "  externalURL=None\n",
      "  cacheDir=c:/users/nourisa/.synapsecache/321/861321\n",
      "  files=['dream4_insilico_size100.zip']\n",
      "  path=c:\\users\\nourisa\\.synapsecache\\321\\861321\\dream4_insilico_size100.zip\n",
      "  synapseStore=True\n",
      "properties:\n",
      "  concreteType=org.sagebionetworks.repo.model.FileEntity\n",
      "  createdBy=375805\n",
      "  createdOn=2015-01-07T15:02:26.133Z\n",
      "  dataFileHandleId=861321\n",
      "  etag=5b5b75d7-7ab2-11e9-98fa-026b0a0ad230\n",
      "  id=syn3049733\n",
      "  isLatestVersion=True\n",
      "  modifiedBy=375805\n",
      "  modifiedOn=2015-01-07T15:02:26.133Z\n",
      "  name=DREAM4_InSilico_Size100.zip\n",
      "  parentId=syn3049715\n",
      "  versionLabel=1\n",
      "  versionNumber=1\n",
      "annotations:\n",
      "\n",
      "File: DREAM4_InSilico_Size100_Multifactorial.zip (syn3049734)\n",
      "  md5=b60b295a036226c734b5796bc8151c89\n",
      "  fileSize=216787\n",
      "  contentType=application/x-zip\n",
      "  externalURL=None\n",
      "  cacheDir=c:/users/nourisa/.synapsecache/322/861322\n",
      "  files=['dream4_insilico_size100_multifactorial.zip']\n",
      "  path=c:\\users\\nourisa\\.synapsecache\\322\\861322\\dream4_insilico_size100_multifactorial.zip\n",
      "  synapseStore=True\n",
      "properties:\n",
      "  concreteType=org.sagebionetworks.repo.model.FileEntity\n",
      "  createdBy=375805\n",
      "  createdOn=2015-01-07T15:02:32.018Z\n",
      "  dataFileHandleId=861322\n",
      "  etag=5b5b7674-7ab2-11e9-98fa-026b0a0ad230\n",
      "  id=syn3049734\n",
      "  isLatestVersion=True\n",
      "  modifiedBy=375805\n",
      "  modifiedOn=2015-01-07T15:02:32.018Z\n",
      "  name=DREAM4_InSilico_Size100_Multifactorial.zip\n",
      "  parentId=syn3049715\n",
      "  versionLabel=1\n",
      "  versionNumber=1\n",
      "annotations:\n",
      "\n",
      "File: DREAM4_InSilicoNetworks_GoldStandard.zip (syn3049736)\n",
      "  md5=a09f0b69ec0ecdbb107a6f6e45e8ced8\n",
      "  fileSize=224899\n",
      "  contentType=application/x-zip\n",
      "  externalURL=None\n",
      "  cacheDir=c:/users/nourisa/.synapsecache/323/861323\n",
      "  files=['dream4_insiliconetworks_goldstandard.zip']\n",
      "  path=c:\\users\\nourisa\\.synapsecache\\323\\861323\\dream4_insiliconetworks_goldstandard.zip\n",
      "  synapseStore=True\n",
      "properties:\n",
      "  concreteType=org.sagebionetworks.repo.model.FileEntity\n",
      "  createdBy=375805\n",
      "  createdOn=2015-01-07T15:03:32.797Z\n",
      "  dataFileHandleId=861323\n",
      "  etag=5b5b77a1-7ab2-11e9-98fa-026b0a0ad230\n",
      "  id=syn3049736\n",
      "  isLatestVersion=True\n",
      "  modifiedBy=375805\n",
      "  modifiedOn=2015-01-07T15:03:32.797Z\n",
      "  name=DREAM4_InSilicoNetworks_GoldStandard.zip\n",
      "  parentId=syn3049735\n",
      "  versionLabel=1\n",
      "  versionNumber=1\n",
      "annotations:\n",
      "\n",
      "File: DREAM4_InSilicoNetworks_Supplementary_Information.zip (syn3049737)\n",
      "  md5=5271a696eea8e5e5feb1284212a479fa\n",
      "  fileSize=300374\n",
      "  contentType=application/x-zip\n",
      "  externalURL=None\n",
      "  cacheDir=c:/users/nourisa/.synapsecache/324/861324\n",
      "  files=['dream4_insiliconetworks_supplementary_information.zip']\n",
      "  path=c:\\users\\nourisa\\.synapsecache\\324\\861324\\dream4_insiliconetworks_supplementary_information.zip\n",
      "  synapseStore=True\n",
      "properties:\n",
      "  concreteType=org.sagebionetworks.repo.model.FileEntity\n",
      "  createdBy=375805\n",
      "  createdOn=2015-01-07T15:03:38.409Z\n",
      "  dataFileHandleId=861324\n",
      "  etag=5b5b783a-7ab2-11e9-98fa-026b0a0ad230\n",
      "  id=syn3049737\n",
      "  isLatestVersion=True\n",
      "  modifiedBy=375805\n",
      "  modifiedOn=2015-01-07T15:03:38.409Z\n",
      "  name=DREAM4_InSilicoNetworks_Supplementary_Information.zip\n",
      "  parentId=syn3049735\n",
      "  versionLabel=1\n",
      "  versionNumber=1\n",
      "annotations:\n",
      "\n"
     ]
    }
   ],
   "source": [
    "import shutil\n",
    "import os\n",
    "target_path = 'C:/Users/nourisa/Downloads/testProjs/geneRNI/data/dream4'\n",
    "for i,file in enumerate(dream4_files):\n",
    "    print(file)\n",
    "    shutil.copyfile(file.path,os.path.join(target_path,files[i].files[0]))"
   ]
  },
  {
   "cell_type": "code",
   "execution_count": 22,
   "id": "80545134",
   "metadata": {},
   "outputs": [],
   "source": [
    "import shutil\n",
    "import os\n",
    "target_path = 'C:/Users/nourisa/Downloads/testProjs/geneRNI/data/dream5'\n",
    "for i,file in enumerate(dream5_files):\n",
    "    shutil.copyfile(file.path,os.path.join(target_path,files[i].files[0]))"
   ]
  }
 ],
 "metadata": {
  "kernelspec": {
   "display_name": "Python 3 (ipykernel)",
   "language": "python",
   "name": "python3"
  },
  "language_info": {
   "codemirror_mode": {
    "name": "ipython",
    "version": 3
   },
   "file_extension": ".py",
   "mimetype": "text/x-python",
   "name": "python",
   "nbconvert_exporter": "python",
   "pygments_lexer": "ipython3",
   "version": "3.8.13"
  }
 },
 "nbformat": 4,
 "nbformat_minor": 5
}
